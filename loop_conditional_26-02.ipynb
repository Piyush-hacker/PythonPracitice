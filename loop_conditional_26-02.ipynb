{
 "cells": [
  {
   "cell_type": "code",
   "execution_count": 4,
   "id": "25f5c0de-ac0d-4000-992d-8236924448f2",
   "metadata": {},
   "outputs": [
    {
     "name": "stdin",
     "output_type": "stream",
     "text": [
      "Enter the number: 1\n"
     ]
    },
    {
     "name": "stdout",
     "output_type": "stream",
     "text": [
      "The number is less\n"
     ]
    }
   ],
   "source": [
    "#Check number is less than 10\n",
    "\n",
    "num=int(input(\"Enter the number:\"))\n",
    "if num<10:\n",
    "    print(\"The number is less\")\n",
    "else:\n",
    "    print(\"The number is more\")"
   ]
  },
  {
   "cell_type": "code",
   "execution_count": 6,
   "id": "6599d5ba-9ec5-4929-93d0-e969cf20b45e",
   "metadata": {},
   "outputs": [
    {
     "name": "stdin",
     "output_type": "stream",
     "text": [
      "Enter a 1st number: 5\n",
      "Enter a 2nd number: 5\n"
     ]
    },
    {
     "name": "stdout",
     "output_type": "stream",
     "text": [
      "Equivalent\n"
     ]
    }
   ],
   "source": [
    "#Check numbers are equivalent\n",
    "\n",
    "num1=int(input(\"Enter a 1st number:\"))\n",
    "num2=int(input(\"Enter a 2nd number:\"))\n",
    "\n",
    "if num1==num2:\n",
    "    print(\"Equivalent\")\n",
    "else:\n",
    "    print(\"Not Equivalent\")"
   ]
  },
  {
   "cell_type": "code",
   "execution_count": 7,
   "id": "407786ba-7e1f-4dd5-b520-9317b2ccbea2",
   "metadata": {},
   "outputs": [
    {
     "name": "stdin",
     "output_type": "stream",
     "text": [
      "Enter your name: sahil\n",
      "Enter age name: 17\n"
     ]
    },
    {
     "name": "stdout",
     "output_type": "stream",
     "text": [
      "Not Eligible come after 18...\n"
     ]
    }
   ],
   "source": [
    "#Check voting eligibility\n",
    "\n",
    "name=input(\"Enter your name:\")\n",
    "age=int(input(\"Enter age name:\"))\n",
    "\n",
    "if age>18:\n",
    "    print(\"Eligible for voting\")\n",
    "else:\n",
    "    print(\"Not Eligible come after 18...\")"
   ]
  },
  {
   "cell_type": "code",
   "execution_count": 8,
   "id": "dd20ed4f-9b4a-444a-b289-057f9d9c87d8",
   "metadata": {},
   "outputs": [
    {
     "name": "stdin",
     "output_type": "stream",
     "text": [
      "Enter a number: 15\n"
     ]
    },
    {
     "name": "stdout",
     "output_type": "stream",
     "text": [
      "15 Odd number\n"
     ]
    }
   ],
   "source": [
    "#Check if number is even or odd\n",
    "\n",
    "num=int(input(\"Enter a number:\"))\n",
    "\n",
    "if num%2==0:\n",
    "    print(num,\"Even number\")\n",
    "else:\n",
    "    print(num,\"Odd number\")"
   ]
  },
  {
   "cell_type": "code",
   "execution_count": 11,
   "id": "d006d0ca-fbd6-42b2-8fef-ab736ef28988",
   "metadata": {},
   "outputs": [
    {
     "name": "stdin",
     "output_type": "stream",
     "text": [
      "Enter three angles: 60 60 60\n"
     ]
    },
    {
     "name": "stdout",
     "output_type": "stream",
     "text": [
      "180 is Triangle\n"
     ]
    }
   ],
   "source": [
    "#Enter three angles & check if it is a triangle\n",
    "\n",
    "a,b,c=map(int,input(\"Enter three angles:\").split(\" \"))\n",
    "\n",
    "if a+b+c==180:\n",
    "    print(a+b+c,\"is Triangle\")\n",
    "else:\n",
    "    print(\"Not a Triangle\")"
   ]
  },
  {
   "cell_type": "code",
   "execution_count": 16,
   "id": "668f7448-338a-4929-a2d0-ed0864bc1995",
   "metadata": {},
   "outputs": [
    {
     "name": "stdin",
     "output_type": "stream",
     "text": [
      "Enter marks 50 50 50\n"
     ]
    },
    {
     "name": "stdout",
     "output_type": "stream",
     "text": [
      "150\n",
      "50.0\n"
     ]
    }
   ],
   "source": [
    "#Find total marks & percentage\n",
    "\n",
    "eng,math,sci=map(int,input(\"Enter marks\").split(\" \"))\n",
    "\n",
    "total=eng+math+sci\n",
    "print(total)\n",
    "per=total/3\n",
    "print(per)\n"
   ]
  },
  {
   "cell_type": "code",
   "execution_count": 17,
   "id": "a59470d5-1d73-4e84-9976-59c3cf4f0390",
   "metadata": {},
   "outputs": [
    {
     "name": "stdin",
     "output_type": "stream",
     "text": [
      "Enter number: 15 10 5\n"
     ]
    },
    {
     "name": "stdout",
     "output_type": "stream",
     "text": [
      "15 is largest\n"
     ]
    }
   ],
   "source": [
    "#Largest amongst three numbers\n",
    "\n",
    "a,b,c=map(int,input(\"Enter number:\").split(\" \"))\n",
    "\n",
    "if a>b and a>c:\n",
    "    print(a,\"is largest\")\n",
    "elif b>a and b>c:\n",
    "    print(b,\"is largest\")\n",
    "else:\n",
    "    print(c,\"is largest\")"
   ]
  },
  {
   "cell_type": "code",
   "execution_count": 19,
   "id": "7646c0e7-83e5-4490-9ca9-e6195a3db190",
   "metadata": {},
   "outputs": [
    {
     "name": "stdin",
     "output_type": "stream",
     "text": [
      "Enter number: 10 10 10\n"
     ]
    },
    {
     "name": "stdout",
     "output_type": "stream",
     "text": [
      "10 is greatest\n"
     ]
    }
   ],
   "source": [
    "#Find greatest among 3 numbers\n",
    "\n",
    "a,b,c=map(int,input(\"Enter number:\").split(\" \"))\n",
    "\n",
    "if a>b and a>c:\n",
    "    print(a,\"is greatest\")\n",
    "elif b>a and b>c:\n",
    "    print(b,\"is greatest\")\n",
    "else:\n",
    "    print(c,\"is greatest\")"
   ]
  },
  {
   "cell_type": "code",
   "execution_count": 31,
   "id": "f4656954-fe01-4fe1-bbc3-3e43f6dbd44a",
   "metadata": {},
   "outputs": [
    {
     "name": "stdin",
     "output_type": "stream",
     "text": [
      "Enter mark: 75\n"
     ]
    },
    {
     "name": "stdout",
     "output_type": "stream",
     "text": [
      "Congrats... on Distinction\n"
     ]
    }
   ],
   "source": [
    "# Check if student scored distinction\n",
    "m=float(input(\"Enter mark:\"))\n",
    "\n",
    "if m>=70 and m<100:\n",
    "    print(\"Congrats... on Distinction\")\n",
    "else:\n",
    "    print(\"Not choosen for Distinction\")"
   ]
  },
  {
   "cell_type": "code",
   "execution_count": 37,
   "id": "0c8ce68d-df74-48a3-977f-6a1f231b009f",
   "metadata": {},
   "outputs": [
    {
     "name": "stdin",
     "output_type": "stream",
     "text": [
      "Enter 1 angle to check: 90\n",
      "Enter 2 angle to check: 90\n"
     ]
    },
    {
     "name": "stdout",
     "output_type": "stream",
     "text": [
      "No triangle\n"
     ]
    }
   ],
   "source": [
    "# Check type of triangle\n",
    "\n",
    "a=int(input(\"Enter 1 angle to check:\"))\n",
    "b=int(input(\"Enter 2 angle to check:\"))\n",
    "\n",
    "if a<90 and b<90:\n",
    "    print(\"Acute Triangle\")\n",
    "elif a>90 or b>90:\n",
    "    print(\"Right Triangle\")\n",
    "elif a>90 or b>90:\n",
    "    print(\"Obtuse Triangle\")\n",
    "else:\n",
    "    print(\"No triangle\")"
   ]
  },
  {
   "cell_type": "code",
   "execution_count": 40,
   "id": "71035127-a6c9-4a6a-afa9-2b00f5a5fd69",
   "metadata": {},
   "outputs": [
    {
     "name": "stdin",
     "output_type": "stream",
     "text": [
      "Enter 3 numbers: 5 5 5\n"
     ]
    },
    {
     "name": "stdout",
     "output_type": "stream",
     "text": [
      "Greater than 10\n"
     ]
    }
   ],
   "source": [
    "#Check sum of digit greater than 10\n",
    "\n",
    "a,b,c=map(int,input(\"Enter 3 numbers:\").split(\" \"))\n",
    "\n",
    "s=a+b+c\n",
    "\n",
    "if s>10:\n",
    "    print(\"Greater than 10\")\n",
    "else:\n",
    "    print(\"Less than 10\")"
   ]
  },
  {
   "cell_type": "code",
   "execution_count": 41,
   "id": "f821cc15-f202-46e3-b5af-0617cb7f9bee",
   "metadata": {},
   "outputs": [
    {
     "name": "stdin",
     "output_type": "stream",
     "text": [
      "Enter Number 1\n"
     ]
    },
    {
     "name": "stdout",
     "output_type": "stream",
     "text": [
      "One\n"
     ]
    }
   ],
   "source": [
    "#Print single digit number in words\n",
    "\n",
    "num=int(input(\"Enter Number\"))\n",
    "\n",
    "if num==1:\n",
    "    print(\"One\")\n",
    "elif num==2:\n",
    "    print(\"Two\")\n",
    "elif num==3:\n",
    "    print(\"Three\")\n",
    "elif num==4:\n",
    "    print(\"Four\")\n",
    "elif num==5:\n",
    "    print(\"Five\")\n",
    "elif num==6:\n",
    "    print(\"Six\")\n",
    "elif num==7:\n",
    "    print(\"Seven\")\n",
    "elif num==8:\n",
    "    print(\"Eight\")\n",
    "elif num==9:\n",
    "    print(\"Nine\")\n",
    "elif num==10:\n",
    "    print(\"Ten\")\n",
    "else:\n",
    "    print(\"Can't convert\")\n",
    "    "
   ]
  },
  {
   "cell_type": "code",
   "execution_count": 45,
   "id": "dff7a3af-89b0-4f5a-ba36-369fa37df138",
   "metadata": {},
   "outputs": [
    {
     "name": "stdout",
     "output_type": "stream",
     "text": [
      "10\n",
      "9\n",
      "8\n",
      "7\n",
      "6\n",
      "5\n",
      "4\n",
      "3\n",
      "2\n",
      "1\n"
     ]
    }
   ],
   "source": [
    "#Print 10 to 1 numbers\n",
    "\n",
    "for i in range(10,0,-1):\n",
    "    print(i)"
   ]
  },
  {
   "cell_type": "code",
   "execution_count": 46,
   "id": "b7d9e254-b749-4841-9fb4-f665b4c1b216",
   "metadata": {},
   "outputs": [
    {
     "name": "stdin",
     "output_type": "stream",
     "text": [
      "Enter number 10\n"
     ]
    },
    {
     "name": "stdout",
     "output_type": "stream",
     "text": [
      "110\n"
     ]
    }
   ],
   "source": [
    "#Sum of first n even numbers\n",
    "\n",
    "n=int(input(\"Enter number\"))\n",
    "\n",
    "sum=n*(n+1)\n",
    "\n",
    "print(sum)"
   ]
  },
  {
   "cell_type": "code",
   "execution_count": 47,
   "id": "8d047a94-430f-4d75-b7c1-85f14482ab6b",
   "metadata": {},
   "outputs": [
    {
     "name": "stdin",
     "output_type": "stream",
     "text": [
      "Enter number 5\n"
     ]
    },
    {
     "name": "stdout",
     "output_type": "stream",
     "text": [
      "120\n"
     ]
    }
   ],
   "source": [
    "#Print factorial of a number\n",
    "n=int(input(\"Enter number\"))\n",
    "\n",
    "for i in range(n,1,-1):\n",
    "    n=n*(i-1)\n",
    "print()"
   ]
  },
  {
   "cell_type": "code",
   "execution_count": 59,
   "id": "7e152ef4-8cb2-4afc-8f79-a34d920e5481",
   "metadata": {},
   "outputs": [
    {
     "name": "stdin",
     "output_type": "stream",
     "text": [
      "Enter number 60\n"
     ]
    },
    {
     "name": "stdout",
     "output_type": "stream",
     "text": [
      "1\n",
      "2\n",
      "3\n",
      "4\n",
      "5\n",
      "6\n",
      "10\n",
      "12\n",
      "15\n",
      "20\n",
      "30\n",
      "60\n"
     ]
    }
   ],
   "source": [
    "#Number perfectly dividing given number\n",
    "\n",
    "n=int(input(\"Enter number\"))\n",
    "for i in range(1,n+1):\n",
    "    if(n%i==0):\n",
    "        print(i)"
   ]
  },
  {
   "cell_type": "code",
   "execution_count": 51,
   "id": "6b240add-444a-401f-a68f-490890439c99",
   "metadata": {},
   "outputs": [
    {
     "name": "stdout",
     "output_type": "stream",
     "text": [
      "square root of 1 is 1.0\n",
      "square root of 2 is 1.4142135623730951\n",
      "square root of 3 is 1.7320508075688772\n",
      "square root of 4 is 2.0\n",
      "square root of 5 is 2.23606797749979\n",
      "square root of 6 is 2.449489742783178\n",
      "square root of 7 is 2.6457513110645907\n",
      "square root of 8 is 2.8284271247461903\n",
      "square root of 9 is 3.0\n"
     ]
    }
   ],
   "source": [
    "#Square roots of 1 to 9 numbers\n",
    "\n",
    "for i in range(1,10):\n",
    "    s=i**0.5\n",
    "    print(\"square root of\",i,\"is\",s)"
   ]
  },
  {
   "cell_type": "code",
   "execution_count": 58,
   "id": "8741a58f-18b3-4d77-b6e1-e094884d1db4",
   "metadata": {},
   "outputs": [
    {
     "name": "stdout",
     "output_type": "stream",
     "text": [
      "1\n",
      "7\n",
      "11\n",
      "13\n",
      "17\n",
      "19\n",
      "23\n",
      "29\n",
      "31\n",
      "37\n",
      "41\n",
      "43\n",
      "47\n",
      "49\n",
      "53\n",
      "59\n",
      "61\n",
      "67\n",
      "71\n",
      "73\n",
      "77\n",
      "79\n",
      "83\n",
      "89\n",
      "91\n",
      "97\n"
     ]
    }
   ],
   "source": [
    "#Numbers not divisible by 2,3,5\n",
    "\n",
    "for n in range(1,100):\n",
    "    if (n%2!=0) and (n%3!=0) and (n%5!=0):\n",
    "        print(n)"
   ]
  },
  {
   "cell_type": "code",
   "execution_count": 62,
   "id": "3d6ff4e9-82a8-410f-a98f-b5b45868155d",
   "metadata": {},
   "outputs": [
    {
     "name": "stdin",
     "output_type": "stream",
     "text": [
      "Enter the number of terms:  5\n"
     ]
    },
    {
     "name": "stdout",
     "output_type": "stream",
     "text": [
      "The sum of the first 5 terms of the harmonic sequence is: 2.283333333333333\n"
     ]
    }
   ],
   "source": [
    "#Harmonic sequence & its sum\n",
    "\n",
    "n = int(input(\"Enter the number of terms: \"))\n",
    "\n",
    "total = 0\n",
    "for i in range(1, n+1):\n",
    "    total += 1 / i\n",
    "\n",
    "print(\"The sum of the first\", n, \"terms of the harmonic sequence is:\", total)\n"
   ]
  },
  {
   "cell_type": "code",
   "execution_count": 63,
   "id": "60707b03-517b-4d09-ab2d-b907287f71f0",
   "metadata": {},
   "outputs": [
    {
     "name": "stdin",
     "output_type": "stream",
     "text": [
      "First term:  5\n",
      "difference:  2\n",
      "Number of terms:  5\n"
     ]
    },
    {
     "name": "stdout",
     "output_type": "stream",
     "text": [
      "The sum of the AP is: 45.0\n"
     ]
    }
   ],
   "source": [
    "# Arithmetic progression & its sum\n",
    "\n",
    "a = float(input(\"First term: \"))\n",
    "d = float(input(\"difference: \"))\n",
    "n = int(input(\"Number of terms: \"))\n",
    "S = (n / 2) * (2 * a + (n - 1) * d)\n",
    "print(\"The sum of the AP is:\", S)\n"
   ]
  },
  {
   "cell_type": "code",
   "execution_count": 73,
   "id": "4d09e6d2-495b-4209-a0b8-e0fea2ffc687",
   "metadata": {},
   "outputs": [
    {
     "name": "stdin",
     "output_type": "stream",
     "text": [
      "Enter a number:  55\n"
     ]
    },
    {
     "name": "stdout",
     "output_type": "stream",
     "text": [
      "Sum of first and last digit: 10\n"
     ]
    }
   ],
   "source": [
    "#Sum of first & last digit of number\n",
    "\n",
    "num = int(input(\"Enter a number: \"))\n",
    "first_d = int(str(num)[0])\n",
    "last_d = num % 10\n",
    "print(\"Sum of first and last digit:\", first_d + last_d)\n"
   ]
  },
  {
   "cell_type": "code",
   "execution_count": 3,
   "id": "b984fed3-4ab4-4580-a377-2d6575a790c6",
   "metadata": {},
   "outputs": [
    {
     "name": "stdin",
     "output_type": "stream",
     "text": [
      "Enter the number of terms:  5\n"
     ]
    },
    {
     "name": "stdout",
     "output_type": "stream",
     "text": [
      "Sum of Fibonacci series: 7\n"
     ]
    }
   ],
   "source": [
    "# Calculate sum of Fibonacci series\n",
    "\n",
    "n = int(input(\"Enter the number of terms: \"))\n",
    "a, b = 0, 1\n",
    "sum_f = 0\n",
    "\n",
    "for _ in range(n):\n",
    "    sum_f += a\n",
    "    a, b = b, a + b\n",
    "\n",
    "print(\"Sum of Fibonacci series:\", sum_f)"
   ]
  },
  {
   "cell_type": "code",
   "execution_count": 8,
   "id": "37b0cac7-6e94-4c1b-baca-35fed2bad894",
   "metadata": {},
   "outputs": [
    {
     "name": "stdin",
     "output_type": "stream",
     "text": [
      "Enter the first number:  114\n",
      "Enter the second number:  69\n"
     ]
    },
    {
     "name": "stdout",
     "output_type": "stream",
     "text": [
      "H.C.F is: 3\n"
     ]
    }
   ],
   "source": [
    "#Calculate H.C.F using while loop\n",
    "\n",
    "a = int(input(\"Enter the first number: \"))\n",
    "b = int(input(\"Enter the second number: \"))\n",
    "\n",
    "while b != 0:\n",
    "    a, b = b, a % b\n",
    "\n",
    "print(\"H.C.F is:\", a)\n"
   ]
  },
  {
   "cell_type": "code",
   "execution_count": 10,
   "id": "83485e27-5b84-4176-8b4e-9d19175e326a",
   "metadata": {},
   "outputs": [
    {
     "name": "stdin",
     "output_type": "stream",
     "text": [
      "Enter the start of the series:  5\n",
      "Enter the end of the series:  10\n",
      "Enter the number to skip:  8\n"
     ]
    },
    {
     "name": "stdout",
     "output_type": "stream",
     "text": [
      "5 6 7 9 10 "
     ]
    }
   ],
   "source": [
    "#Print series skipping given numbers\n",
    "\n",
    "start = int(input(\"Enter the start of the series: \"))\n",
    "end = int(input(\"Enter the end of the series: \"))\n",
    "skip = int(input(\"Enter the number to skip: \"))\n",
    "\n",
    "for num in range(start, end + 1):\n",
    "    if num != skip:\n",
    "        print(num, end=\" \")\n"
   ]
  },
  {
   "cell_type": "code",
   "execution_count": 12,
   "id": "09c62871-e49f-4ea5-aa1a-c4f09ba2a3bd",
   "metadata": {},
   "outputs": [
    {
     "name": "stdin",
     "output_type": "stream",
     "text": [
      "Enter the number of elements:  5\n",
      "Enter a number:  4\n",
      "Enter a number:  3\n",
      "Enter a number:  -2\n",
      "Enter a number:  -6\n",
      "Enter a number:  0\n"
     ]
    },
    {
     "name": "stdout",
     "output_type": "stream",
     "text": [
      "Sum of positive numbers: 7\n",
      "Sum of negative numbers: -8\n"
     ]
    }
   ],
   "source": [
    "#Sum of all +ve & -ve numbers\n",
    "\n",
    "n = int(input(\"Enter the number of elements: \"))\n",
    "positive = 0\n",
    "negative = 0\n",
    "\n",
    "for _ in range(n):\n",
    "    num = int(input(\"Enter a number: \"))\n",
    "    if num > 0:\n",
    "        positive += num\n",
    "    elif num < 0:\n",
    "        negative += num\n",
    "\n",
    "print(\"Sum of positive numbers:\", positive)\n",
    "print(\"Sum of negative numbers:\", negative)\n"
   ]
  },
  {
   "cell_type": "code",
   "execution_count": null,
   "id": "a6b68265-a94e-44c3-a6cd-5b2589487473",
   "metadata": {},
   "outputs": [],
   "source": []
  }
 ],
 "metadata": {
  "kernelspec": {
   "display_name": "Python 3 (ipykernel)",
   "language": "python",
   "name": "python3"
  },
  "language_info": {
   "codemirror_mode": {
    "name": "ipython",
    "version": 3
   },
   "file_extension": ".py",
   "mimetype": "text/x-python",
   "name": "python",
   "nbconvert_exporter": "python",
   "pygments_lexer": "ipython3",
   "version": "3.12.5"
  }
 },
 "nbformat": 4,
 "nbformat_minor": 5
}
