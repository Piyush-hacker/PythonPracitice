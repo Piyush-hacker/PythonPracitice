{
 "cells": [
  {
   "cell_type": "code",
   "execution_count": 7,
   "id": "fdf7eb0f-4a4c-4664-b72b-b1d64d207684",
   "metadata": {},
   "outputs": [
    {
     "name": "stdout",
     "output_type": "stream",
     "text": [
      "0.4\n",
      "End...\n"
     ]
    }
   ],
   "source": [
    "try:\n",
    "    i=2\n",
    "    j=5\n",
    "    a=i/j\n",
    "except:\n",
    "    print(\"Divisor can't be zero\")\n",
    "\n",
    "else:\n",
    "    print(a)\n",
    "finally:\n",
    "    print(\"End...\")"
   ]
  },
  {
   "cell_type": "code",
   "execution_count": 9,
   "id": "7f9f5ed4-b15c-42ae-a83d-5fbbaf5b3fec",
   "metadata": {},
   "outputs": [
    {
     "ename": "ModuleNotFoundError",
     "evalue": "No module named 'pandas'",
     "output_type": "error",
     "traceback": [
      "\u001b[1;31m---------------------------------------------------------------------------\u001b[0m",
      "\u001b[1;31mModuleNotFoundError\u001b[0m                       Traceback (most recent call last)",
      "Cell \u001b[1;32mIn[9], line 1\u001b[0m\n\u001b[1;32m----> 1\u001b[0m \u001b[38;5;28;01mimport\u001b[39;00m\u001b[38;5;250m \u001b[39m\u001b[38;5;21;01mpandas\u001b[39;00m\u001b[38;5;250m \u001b[39m\u001b[38;5;28;01mas\u001b[39;00m\u001b[38;5;250m \u001b[39m\u001b[38;5;21;01mpd\u001b[39;00m\n",
      "\u001b[1;31mModuleNotFoundError\u001b[0m: No module named 'pandas'"
     ]
    }
   ],
   "source": [
    "from "
   ]
  },
  {
   "cell_type": "code",
   "execution_count": 16,
   "id": "cdc21f98-92f6-49bd-a8c6-b5211e1b3789",
   "metadata": {},
   "outputs": [
    {
     "name": "stdout",
     "output_type": "stream",
     "text": [
      "Buy at 0 Sell at 1 = 4\n",
      "Buy at 0 Sell at 2 = 6\n",
      "Buy at 0 Sell at 3 = 1\n",
      "Buy at 0 Sell at 5 = 2\n",
      "Buy at 1 Sell at 2 = 2\n",
      "Buy at 4 Sell at 5 = 7\n"
     ]
    }
   ],
   "source": [
    "trade=[5,1,-1,4,10,3,8]\n",
    "buy=0\n",
    "sell=0\n",
    "profit=0\n",
    "for i in range(0,len(trade)):\n",
    "    for j in range(i+1,len(trade)):\n",
    "        if trade[i]-trade[j]>buy:\n",
    "            buy=i\n",
    "            sell=j\n",
    "            print(\"Buy at\",buy,\"Sell at\",sell,\"=\",trade[i]-trade[j])\n",
    "        else:\n",
    "            pass"
   ]
  },
  {
   "cell_type": "code",
   "execution_count": 2,
   "id": "8940965c-e17a-4a53-bba4-875d537c02ef",
   "metadata": {},
   "outputs": [
    {
     "ename": "AttributeError",
     "evalue": "'set' object has no attribute 'append'",
     "output_type": "error",
     "traceback": [
      "\u001b[1;31m---------------------------------------------------------------------------\u001b[0m",
      "\u001b[1;31mAttributeError\u001b[0m                            Traceback (most recent call last)",
      "Cell \u001b[1;32mIn[2], line 6\u001b[0m\n\u001b[0;32m      4\u001b[0m \u001b[38;5;28;01mfor\u001b[39;00m bid \u001b[38;5;129;01min\u001b[39;00m bids:\n\u001b[0;32m      5\u001b[0m     \u001b[38;5;28;01mif\u001b[39;00m (bid)\u001b[38;5;241m<\u001b[39m(cost):\n\u001b[1;32m----> 6\u001b[0m         \u001b[43mbids\u001b[49m\u001b[38;5;241;43m.\u001b[39;49m\u001b[43mappend\u001b[49m(bid)\n\u001b[0;32m      7\u001b[0m \u001b[38;5;28mprint\u001b[39m(\u001b[38;5;28msorted\u001b[39m(bids))\n",
      "\u001b[1;31mAttributeError\u001b[0m: 'set' object has no attribute 'append'"
     ]
    }
   ],
   "source": [
    "bids={11,44,23,67,45.5,5.1,22.3,26}\n",
    "cost=22.3\n",
    "close=[]\n",
    "for bid in bids:\n",
    "    if (bid)<(cost):\n",
    "        bids.append(bid)\n",
    "print(sorted(bids))"
   ]
  },
  {
   "cell_type": "code",
   "execution_count": 5,
   "id": "bf2554b4-7a14-424b-835d-72bfc96426d1",
   "metadata": {},
   "outputs": [
    {
     "name": "stdout",
     "output_type": "stream",
     "text": [
      "None\n"
     ]
    }
   ],
   "source": [
    "\n",
    "def sum_set(data,m):\n",
    "    ans=[]\n",
    "    for i in range(len(data)):\n",
    "        for j in range(i+1,len(data)):\n",
    "            if data[i]+data[j]==m:\n",
    "                ans.append((data[i],data[j]))\n",
    "\n",
    "print(sum_set([1,2,3,4,5],5))"
   ]
  },
  {
   "cell_type": "code",
   "execution_count": 17,
   "id": "2c8783e6-2634-46ad-953b-d656855e3e84",
   "metadata": {},
   "outputs": [
    {
     "name": "stdout",
     "output_type": "stream",
     "text": [
      "Less: [10, 20] Great: [30, 40, 50]\n"
     ]
    }
   ],
   "source": [
    "\n",
    "def split_list(l):\n",
    "    less=[]\n",
    "    great=[]\n",
    "    avg=sum(l)/len(l)\n",
    "    for item in l:\n",
    "        if avg>item:\n",
    "            less.append(item)\n",
    "        else:\n",
    "            great.append(item)\n",
    "    return less,great\n",
    "\n",
    "\n",
    "l=[10,20,30,40,50]\n",
    "res=split_list(l)\n",
    "print(\"Less:\",res[0],\"Great:\",res[1])"
   ]
  },
  {
   "cell_type": "code",
   "execution_count": 25,
   "id": "d488abb6-887e-4f61-bc13-d1a649a041cb",
   "metadata": {},
   "outputs": [
    {
     "name": "stdout",
     "output_type": "stream",
     "text": [
      "True\n"
     ]
    }
   ],
   "source": [
    "def anagram(s1,s2):\n",
    "    return sorted(s1)==sorted(s2)\n",
    "\n",
    "s1=\"listen\"\n",
    "s2=\"silent\"\n",
    "print(anagram(s1,s2))\n"
   ]
  },
  {
   "cell_type": "code",
   "execution_count": 29,
   "id": "b867125c-50b9-4066-8592-8974a5e60029",
   "metadata": {},
   "outputs": [
    {
     "name": "stdout",
     "output_type": "stream",
     "text": [
      "abc\n"
     ]
    }
   ],
   "source": [
    "def lcq(s1,s2):\n",
    "    pos=0\n",
    "    for i in range(1,len(s2)):\n",
    "        if s2[:i] in s1:\n",
    "            pos=i\n",
    "        else:\n",
    "            break\n",
    "    return s2[:pos]\n",
    "print(lcq(\"abcdefg\",\"abcgtthh\"))"
   ]
  },
  {
   "cell_type": "code",
   "execution_count": null,
   "id": "17f5d524-5636-4e4a-864d-9ebabdba374d",
   "metadata": {},
   "outputs": [],
   "source": [
    "def common(s1,s2):\n",
    "    s3=[]\n",
    "    for i in range(1,len(s2)):\n",
    "        if s1[i] in s2:\n",
    "            a3.append(i)\n",
    "        else:"
   ]
  },
  {
   "cell_type": "code",
   "execution_count": 33,
   "id": "127a074d-f239-46c5-9a36-5d271c92e39c",
   "metadata": {},
   "outputs": [
    {
     "name": "stdout",
     "output_type": "stream",
     "text": [
      "None\n"
     ]
    }
   ],
   "source": [
    "def merge(d1,d2):\n",
    "    d1.update(d2)\n",
    "    \n",
    "print(merge(d1={'a':1,'b':2},d2={'c':3,'d':4}))\n",
    "\n"
   ]
  },
  {
   "cell_type": "code",
   "execution_count": null,
   "id": "5a6c236f-1d5d-4b24-9f72-50ccd0a2c901",
   "metadata": {},
   "outputs": [],
   "source": []
  }
 ],
 "metadata": {
  "kernelspec": {
   "display_name": "Python 3 (ipykernel)",
   "language": "python",
   "name": "python3"
  },
  "language_info": {
   "codemirror_mode": {
    "name": "ipython",
    "version": 3
   },
   "file_extension": ".py",
   "mimetype": "text/x-python",
   "name": "python",
   "nbconvert_exporter": "python",
   "pygments_lexer": "ipython3",
   "version": "3.12.5"
  }
 },
 "nbformat": 4,
 "nbformat_minor": 5
}
