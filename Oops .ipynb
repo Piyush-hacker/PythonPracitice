{
 "cells": [
  {
   "cell_type": "code",
   "execution_count": 1,
   "id": "dcbef574-0605-44fa-bd9f-3952e7388ee8",
   "metadata": {},
   "outputs": [
    {
     "name": "stdout",
     "output_type": "stream",
     "text": [
      "----------------\n",
      "---Lakshmi BANK----\n",
      "----------------\n",
      "1.Create Account\n",
      "2.Withdraw\n",
      "3.Deposit\n",
      "4.Check Balance\n",
      "5.transfer fund====\n",
      "0.Exit\n"
     ]
    },
    {
     "name": "stdin",
     "output_type": "stream",
     "text": [
      "Choice: 1\n",
      "Enter Name: abc\n",
      "Enter Gender: m\n",
      "Enter amount to open account(min 5000): 50001\n"
     ]
    },
    {
     "name": "stdout",
     "output_type": "stream",
     "text": [
      "Account created ,your account number is: 20250301\n",
      "----------------\n",
      "---Lakshmi BANK----\n",
      "----------------\n",
      "1.Create Account\n",
      "2.Withdraw\n",
      "3.Deposit\n",
      "4.Check Balance\n",
      "5.transfer fund====\n",
      "0.Exit\n"
     ]
    },
    {
     "name": "stdin",
     "output_type": "stream",
     "text": [
      "Choice: 1\n",
      "Enter Name: xyz\n",
      "Enter Gender: f\n",
      "Enter amount to open account(min 5000): 100\n"
     ]
    },
    {
     "name": "stdout",
     "output_type": "stream",
     "text": [
      "----------------\n",
      "---Lakshmi BANK----\n",
      "----------------\n",
      "1.Create Account\n",
      "2.Withdraw\n",
      "3.Deposit\n",
      "4.Check Balance\n",
      "5.transfer fund====\n",
      "0.Exit\n"
     ]
    },
    {
     "name": "stdin",
     "output_type": "stream",
     "text": [
      "Choice: 1\n",
      "Enter Name: xyz\n",
      "Enter Gender: f\n",
      "Enter amount to open account(min 5000): 1200000\n"
     ]
    },
    {
     "name": "stdout",
     "output_type": "stream",
     "text": [
      "Account created ,your account number is: 20250302\n",
      "----------------\n",
      "---Lakshmi BANK----\n",
      "----------------\n",
      "1.Create Account\n",
      "2.Withdraw\n",
      "3.Deposit\n",
      "4.Check Balance\n",
      "5.transfer fund====\n",
      "0.Exit\n"
     ]
    },
    {
     "name": "stdin",
     "output_type": "stream",
     "text": [
      "Choice: 2\n",
      "Enter account no: 20250302\n"
     ]
    },
    {
     "name": "stdout",
     "output_type": "stream",
     "text": [
      "Account found:\n",
      "Account details\n",
      "----------------------------\n",
      "Account no: 20250302\n",
      "Account Name: xyz\n",
      "Account Balance: 1200000.0\n"
     ]
    },
    {
     "name": "stdin",
     "output_type": "stream",
     "text": [
      "Enter amount to withdraw: 100000\n"
     ]
    },
    {
     "name": "stdout",
     "output_type": "stream",
     "text": [
      "Account details\n",
      "----------------------------\n",
      "Account no: 20250302\n",
      "Account Name: xyz\n",
      "Account Balance: 1100000.0\n",
      "----------------\n",
      "---Lakshmi BANK----\n",
      "----------------\n",
      "1.Create Account\n",
      "2.Withdraw\n",
      "3.Deposit\n",
      "4.Check Balance\n",
      "5.transfer fund====\n",
      "0.Exit\n"
     ]
    },
    {
     "name": "stdin",
     "output_type": "stream",
     "text": [
      "Choice: 3\n",
      "Enter account no: 20250301\n"
     ]
    },
    {
     "name": "stdout",
     "output_type": "stream",
     "text": [
      "Account found:\n",
      "Account details\n",
      "----------------------------\n",
      "Account no: 20250301\n",
      "Account Name: abc\n",
      "Account Balance: 50001.0\n"
     ]
    },
    {
     "name": "stdin",
     "output_type": "stream",
     "text": [
      "Enter amount to deposit: 150000\n"
     ]
    },
    {
     "name": "stdout",
     "output_type": "stream",
     "text": [
      "Account details\n",
      "----------------------------\n",
      "Account no: 20250301\n",
      "Account Name: abc\n",
      "Account Balance: 200001.0\n",
      "----------------\n",
      "---Lakshmi BANK----\n",
      "----------------\n",
      "1.Create Account\n",
      "2.Withdraw\n",
      "3.Deposit\n",
      "4.Check Balance\n",
      "5.transfer fund====\n",
      "0.Exit\n"
     ]
    },
    {
     "name": "stdin",
     "output_type": "stream",
     "text": [
      "Choice: 4\n",
      "Enter account no: 20250301\n"
     ]
    },
    {
     "name": "stdout",
     "output_type": "stream",
     "text": [
      "Account found:\n",
      "Account details\n",
      "----------------------------\n",
      "Account no: 20250301\n",
      "Account Name: abc\n",
      "Account Balance: 200001.0\n"
     ]
    },
    {
     "name": "stdin",
     "output_type": "stream",
     "text": [
      "Enter amount to deposit: 1500\n"
     ]
    },
    {
     "name": "stdout",
     "output_type": "stream",
     "text": [
      "Account details\n",
      "----------------------------\n",
      "Account no: 20250301\n",
      "Account Name: abc\n",
      "Account Balance: 201501.0\n",
      "----------------\n",
      "---Lakshmi BANK----\n",
      "----------------\n",
      "1.Create Account\n",
      "2.Withdraw\n",
      "3.Deposit\n",
      "4.Check Balance\n",
      "5.transfer fund====\n",
      "0.Exit\n"
     ]
    },
    {
     "name": "stdin",
     "output_type": "stream",
     "text": [
      "Choice: 5\n",
      "from enter acc no 20250301\n",
      "to enter acc no 20250302\n",
      "enter amount: 150000\n"
     ]
    },
    {
     "name": "stdout",
     "output_type": "stream",
     "text": [
      "amont transfered successfully\n",
      "your updated balance 51501.0\n",
      "----------------\n",
      "---Lakshmi BANK----\n",
      "----------------\n",
      "1.Create Account\n",
      "2.Withdraw\n",
      "3.Deposit\n",
      "4.Check Balance\n",
      "5.transfer fund====\n",
      "0.Exit\n"
     ]
    },
    {
     "name": "stdin",
     "output_type": "stream",
     "text": [
      "Choice: 0\n"
     ]
    },
    {
     "name": "stdout",
     "output_type": "stream",
     "text": [
      "Thanks for using Lena bank\n"
     ]
    }
   ],
   "source": [
    "#Bank system\n",
    "class Account:\n",
    "    Account_no_generator=20250300\n",
    "    def __init__(self,name,gender,amount):\n",
    "        self.name=name\n",
    "        self.gender=gender\n",
    "        self.amount=amount\n",
    "        Account.Account_no_generator+=1\n",
    "        self.account_no=Account.Account_no_generator\n",
    "        print(\"Account created ,your account number is:\",self.account_no)\n",
    "\n",
    "    def get_account_no(self):\n",
    "        return self.account_no\n",
    "\n",
    "    def check_balance(self):\n",
    "        print(\"Account details\")\n",
    "        print(\"----------------------------\")\n",
    "        print(\"Account no:\",self.account_no)\n",
    "        print(\"Account Name:\",self.name)\n",
    "        print(\"Account Balance:\",self.amount);\n",
    "\n",
    "    def deposit(self,amount_given):\n",
    "        if amount_given<=0:\n",
    "            print(\"Amount can not be zero or Negative\")\n",
    "        else:\n",
    "            self.amount+=amount_given\n",
    "            self.check_balance()\n",
    "\n",
    "    def withdraw(self,amount_given):\n",
    "        if self.amount-amount_given<=5000:\n",
    "            print(\"insufficient funds...\")\n",
    "        else:\n",
    "            self.amount-=amount_given\n",
    "            self.check_balance()\n",
    "\n",
    "def create(bank):\n",
    "     name=input(\"Enter Name:\")\n",
    "     gender=input(\"Enter Gender:\")\n",
    "     while True:\n",
    "            amt=float(input(\"Enter amount to open account(min 5000):\"))\n",
    "            if amt>=5000:\n",
    "                a=Account(name,gender,amt)\n",
    "                bank[a.get_account_no()]=a\n",
    "            break\n",
    "\n",
    "def withdraw(bank):\n",
    "    acc_no=int(input(\"Enter account no:\"))\n",
    "    if acc_no in bank:\n",
    "        print(\"Account found:\")\n",
    "        bank[acc_no].check_balance()\n",
    "        amt=float(input(\"Enter amount to withdraw:\"))\n",
    "        bank[acc_no].withdraw(amt)\n",
    "    else:\n",
    "        print(acc_no,\"not found...\")\n",
    "\n",
    "def deposit(bank):\n",
    "    acc_no=int(input(\"Enter account no:\"))\n",
    "    if acc_no in bank:\n",
    "        print(\"Account found:\")\n",
    "        bank[acc_no].check_balance()\n",
    "        amt=float(input(\"Enter amount to deposit:\"))\n",
    "        bank[acc_no].deposit(amt)\n",
    "    else:\n",
    "        print(acc_no,\"not found...\")\n",
    "\n",
    "def check_balance(bank):\n",
    "    acc_no=int(input(\"Enter account no:\"))\n",
    "    if acc_no in bank:\n",
    "        print(\"Account found:\")\n",
    "        bank[acc_no].check_balance()\n",
    "        amt=float(input(\"Enter amount to deposit:\"))\n",
    "        bank[acc_no].deposit(amt)\n",
    "    else:\n",
    "        print(acc_no,\"not found...\")\n",
    "\n",
    "def transfer(bank):\n",
    "  from_acc_no=int(input('from enter acc no'))\n",
    "  to_acc_no=int(input('to enter acc no'))\n",
    "  amount=int(input('enter amount:'))\n",
    "\n",
    "  if from_acc_no in bank and to_acc_no in bank:\n",
    "    if bank[from_acc_no].amount-amount>=5000:\n",
    "      bank[from_acc_no].amount-=amount\n",
    "      bank[to_acc_no].amount+=amount\n",
    "      print('amont transfered successfully')\n",
    "      print('your updated balance',bank[from_acc_no].amount)\n",
    "    else:\n",
    "      print('insufficient funds')\n",
    "\n",
    "  else:\n",
    "    print('invalid acc no')\n",
    "\n",
    "\n",
    "bank={}\n",
    "while True:\n",
    "    print(\"----------------\")\n",
    "    print(\"---Lakshmi BANK----\")\n",
    "    print(\"----------------\")\n",
    "    print(\"1.Create Account\")\n",
    "    print(\"2.Withdraw\")\n",
    "    print(\"3.Deposit\")\n",
    "    print(\"4.Check Balance\")\n",
    "    print('5.transfer fund')\n",
    "    print(\"0.Exit\")\n",
    "    ch=int(input(\"Choice:\"))\n",
    "    if ch==1:\n",
    "        create(bank)\n",
    "    elif ch==2:\n",
    "        withdraw(bank)\n",
    "    elif ch==3:\n",
    "        deposit(bank)\n",
    "    elif ch==4:\n",
    "       check_balance(bank)\n",
    "\n",
    "    elif ch==5:\n",
    "      transfer(bank)\n",
    "\n",
    "    elif ch==0:\n",
    "        print(\"Thanks for using Lakshmi bank\")\n",
    "        break\n",
    "    else:\n",
    "        print(\"Wrong choice...\")"
   ]
  },
  {
   "cell_type": "code",
   "execution_count": 9,
   "id": "1df4ae0b-9bcf-447a-83c6-33b2e585606e",
   "metadata": {},
   "outputs": [
    {
     "name": "stdout",
     "output_type": "stream",
     "text": [
      "Student Name: Sam\n",
      "Student Roll No: 5\n"
     ]
    }
   ],
   "source": [
    "\"\"\"Create a class named 'Student' with a string variable 'name' and an\n",
    "integer variable 'roll_no'. Assign the value of roll_no as '2' and that of name\n",
    "as \"John\" by creating an object of the class Student.\n",
    "\"\"\"\n",
    "\n",
    "class Student:\n",
    "    def __init__(self, name=\"unnamed\", roll_no=\"not given\"):\n",
    "        self.name = name\n",
    "        self.roll_no = roll_no\n",
    "\n",
    "student1 = Student(\"Sam\", 5)\n",
    "\n",
    "print(\"Student Name:\", student1.name)\n",
    "print(\"Student Roll No:\", student1.roll_no)\n"
   ]
  },
  {
   "cell_type": "code",
   "execution_count": 10,
   "id": "1449a12a-790b-455d-8973-9511f8c14c26",
   "metadata": {},
   "outputs": [
    {
     "name": "stdout",
     "output_type": "stream",
     "text": [
      "Student Name: Rahul\n",
      "Roll Number: 1\n",
      "Phone Number: 9452637582\n",
      "Address: 123 main street, mumbai\n",
      "----------------------------\n",
      "Student Name: Bhaumik\n",
      "Roll Number: 2\n",
      "Phone Number: 7485236492\n",
      "Address: 456 new street, mumbai\n",
      "----------------------------\n"
     ]
    }
   ],
   "source": [
    "\"\"\"\n",
    "Assign and print the roll\n",
    "number, phone number and address of two students having names \"Sam\"\n",
    "and \"John\" respectively by creating two objects of the class\n",
    "'Student'.\n",
    "\"\"\"\n",
    "\n",
    "class Student:\n",
    "    def __init__(self, name=\"Unnamed\", roll_no=\"not given\", phone=\"nothing to show\", address=\"not given\"):\n",
    "        self.name = name\n",
    "        self.roll_no = roll_no\n",
    "        self.phone = phone\n",
    "        self.address = address\n",
    "\n",
    "    def print_details(self):\n",
    "        print(f\"Student Name: {self.name}\")\n",
    "        print(f\"Roll Number: {self.roll_no}\")\n",
    "        print(f\"Phone Number: {self.phone}\")\n",
    "        print(f\"Address: {self.address}\")\n",
    "        print(\"----------------------------\")\n",
    "\n",
    "student1 = Student(\"Rahul\", 1, \"9452637582\", \"123 main street, mumbai\")\n",
    "student2 = Student(\"Bhaumik\", 2, \"7485236492\", \"456 new street, mumbai\")\n",
    "\n",
    "student1.print_details()\n",
    "student2.print_details()\n"
   ]
  },
  {
   "cell_type": "code",
   "execution_count": 16,
   "id": "3339f6ec-15b3-4859-b302-dd7fc6305a18",
   "metadata": {},
   "outputs": [
    {
     "name": "stdout",
     "output_type": "stream",
     "text": [
      "Sides of the triangle: 3, 4, 5\n",
      "Perimeter: 12\n",
      "Area: 6.0\n"
     ]
    }
   ],
   "source": [
    "\"\"\"\n",
    "Write a program to print the\n",
    "area and perimeter of a triangle having sides of 3, 4 and 5 units by creating a\n",
    "class named 'Triangle' with a function to print the area and perimeter.\"\"\"\n",
    "\n",
    "import math\n",
    "\n",
    "class Triangle:\n",
    "    def __init__(self, a, b, c):\n",
    "        self.a = a\n",
    "        self.b = b\n",
    "        self.c = c\n",
    "\n",
    "    def perimeter(self):\n",
    "        return self.a + self.b + self.c\n",
    "\n",
    "    def area(self):\n",
    "        s = (self.a + self.b + self.c) / 2 \n",
    "        area = math.sqrt(s * (s - self.a) * (s - self.b) * (s - self.c))\n",
    "        return area\n",
    "\n",
    "    def details(self):\n",
    "        print(f\"Sides of the triangle: {self.a}, {self.b}, {self.c}\")\n",
    "        print(f\"Perimeter: {self.perimeter()}\")\n",
    "        print(f\"Area: {self.area()}\")\n",
    "\n",
    "t = Triangle(3, 4, 5)\n",
    "\n",
    "t.details()\n"
   ]
  },
  {
   "cell_type": "code",
   "execution_count": 20,
   "id": "27b98fe0-f8e3-418d-8966-e6a199d287a4",
   "metadata": {},
   "outputs": [
    {
     "name": "stdout",
     "output_type": "stream",
     "text": [
      "Area of Rectangle 1: 20\n",
      "Area of Rectangle 2: 40\n"
     ]
    }
   ],
   "source": [
    "\"\"\"\n",
    "Write a program to print the\n",
    "area of two rectangles having sides (4,5) and (5,8) respectively by creating a\n",
    "class named 'Rectangle' with a function named 'Area' which returns the area.\n",
    "Length and breadth are passed as parameters to its constructor.\"\"\"\n",
    "\n",
    "class Rectangle:\n",
    "    def __init__(self, l, b):\n",
    "        self.l = l\n",
    "        self.b = b\n",
    "\n",
    "    def area(self):\n",
    "        return self.l * self.b\n",
    "\n",
    "rect1 = Rectangle(4, 5)\n",
    "rect2 = Rectangle(5, 8)\n",
    "\n",
    "print(\"Area of Rectangle 1:\", rect1.area())\n",
    "print(\"Area of Rectangle 2:\", rect2.area())\n"
   ]
  },
  {
   "cell_type": "code",
   "execution_count": 22,
   "id": "1d0ac198-c2cb-48b4-ac73-e31f6af181a2",
   "metadata": {},
   "outputs": [
    {
     "name": "stdin",
     "output_type": "stream",
     "text": [
      "Enter the length of the rectangle:  5\n",
      "Enter the breadth of the rectangle:  2\n"
     ]
    },
    {
     "name": "stdout",
     "output_type": "stream",
     "text": [
      "Area of the rectangle: 10.0\n"
     ]
    }
   ],
   "source": [
    "\"\"\"\n",
    "Write a program to print the\n",
    "area of a rectangle by creating a class named 'Area' having two functions.\n",
    "First function named as 'setDim' takes the length and breadth of the rectangle\n",
    "as parameters and the second function named as 'getArea' returns the area of\n",
    "the rectangle. Length and breadth of the rectangle are entered through\n",
    "keyboard.\n",
    "\"\"\"\n",
    "\n",
    "class Area:\n",
    "    def value(self, l, b):\n",
    "        self.l = l\n",
    "        self.b = b\n",
    "\n",
    "    def sol(self):\n",
    "        return self.l * self.b\n",
    "\n",
    "r = Area()\n",
    "\n",
    "l = float(input(\"Enter the length of the rectangle: \"))\n",
    "b = float(input(\"Enter the breadth of the rectangle: \"))\n",
    "\n",
    "r.value(l, b)\n",
    "\n",
    "print(\"Area of the rectangle:\", r.sol())\n"
   ]
  },
  {
   "cell_type": "code",
   "execution_count": 24,
   "id": "184405a8-da50-4f05-9bc8-dd9bc5750b8d",
   "metadata": {},
   "outputs": [
    {
     "name": "stdin",
     "output_type": "stream",
     "text": [
      "Enter the first number:  70\n",
      "Enter the second number:  61\n",
      "Enter the third number:  55\n"
     ]
    },
    {
     "name": "stdout",
     "output_type": "stream",
     "text": [
      "The average of 70.0, 61.0, and 55.0 is: 62.0\n"
     ]
    }
   ],
   "source": [
    "\"\"\"\n",
    "\n",
    "Print the average of three\n",
    "numbers entered by the user by creating a class named 'Average' having a\n",
    "function to calculate and print the average without creating any object of the\n",
    "Average class.\"\"\"\n",
    "\n",
    "class Average:\n",
    "    def marks(num1, num2, num3):\n",
    "        avg = (num1 + num2 + num3) / 3\n",
    "        print(f\"The average of {num1}, {num2}, and {num3} is: {avg}\")\n",
    "\n",
    "num1 = float(input(\"Enter the first number: \"))\n",
    "num2 = float(input(\"Enter the second number: \"))\n",
    "num3 = float(input(\"Enter the third number: \"))\n",
    "\n",
    "Average.marks(num1, num2, num3)\n"
   ]
  },
  {
   "cell_type": "code",
   "execution_count": 25,
   "id": "4c193099-ee66-411b-906a-40fe3f879c93",
   "metadata": {},
   "outputs": [
    {
     "data": {
      "text/plain": [
       "\"\\nPrint the sum, difference\\nand product of two complex numbers by creating a class named 'Complex' with\\nseparate functions for each operation whose real and imaginary parts are\\nentered by the user.\""
      ]
     },
     "execution_count": 25,
     "metadata": {},
     "output_type": "execute_result"
    }
   ],
   "source": [
    "\"\"\"\n",
    "Print the sum, difference\n",
    "and product of two complex numbers by creating a class named 'Complex' with\n",
    "separate functions for each operation whose real and imaginary parts are\n",
    "entered by the user.\"\"\"\n"
   ]
  },
  {
   "cell_type": "code",
   "execution_count": 26,
   "id": "70ea35a9-56ac-4ea8-91a6-af51128c17c9",
   "metadata": {},
   "outputs": [
    {
     "name": "stdin",
     "output_type": "stream",
     "text": [
      "Enter the length of the box:  5\n",
      "Enter the breadth of the box:  6\n",
      "Enter the height of the box:  8\n"
     ]
    },
    {
     "name": "stdout",
     "output_type": "stream",
     "text": [
      "The volume of the box is: 240.0\n"
     ]
    }
   ],
   "source": [
    "\"\"\"\n",
    "Write a program to print the\n",
    "volume of a box by creating a class named 'Volume' with an initialization list\n",
    "to initialize its length, breadth and height. (just to make you familiar with\n",
    "initialization lists)\"\"\"\n",
    "\n",
    "class Volume:\n",
    "    def __init__(self, l, b, h):\n",
    "        self.l = l\n",
    "        self.b = b\n",
    "        self.h = h\n",
    "\n",
    "    def sol(self):\n",
    "        return self.l * self.b * self.h\n",
    "\n",
    "l = float(input(\"Enter the length of the box: \"))\n",
    "b = float(input(\"Enter the breadth of the box: \"))\n",
    "h = float(input(\"Enter the height of the box: \"))\n",
    "\n",
    "box = Volume(l, b, h)\n",
    "\n",
    "print(f\"The volume of the box is: {box.sol()}\")\n"
   ]
  },
  {
   "cell_type": "code",
   "execution_count": 27,
   "id": "33371aa9-4228-43c6-bed1-270580af8079",
   "metadata": {},
   "outputs": [
    {
     "name": "stdout",
     "output_type": "stream",
     "text": [
      "Name         Year of Joining Address\n",
      "----------------------------------------\n",
      "Piyush       2002            Nagpur\n",
      "Sahil        2000            Pune\n",
      "Vinit        1999            Mumbai\n"
     ]
    }
   ],
   "source": [
    "\"\"\"\n",
    "\n",
    "Write a program that would\n",
    "print the information (name, year of joining, salary, address) of three\n",
    "employees by creating a class named 'Employee'. The output should be as\n",
    "follows:\n",
    "\n",
    "Name        Year of\n",
    "joining        Address\n",
    "\n",
    "Robert        1994        64C-\n",
    "WallsStreat\n",
    "\n",
    "Sam        2000        68D-\n",
    "WallsStreat\n",
    "\n",
    "John        1999        26B-\n",
    "WallsStreat\n",
    "\n",
    "\"\"\"\n",
    "\n",
    "class Employee:\n",
    "    def __init__(self, name=\"unamed\", year=\"not given\", address=\"empty\"):\n",
    "        self.name = name\n",
    "        self.year = year\n",
    "        self.address = address\n",
    "    \n",
    "    def display(self):\n",
    "        print(f\"{self.name:<12} {self.year:<15} {self.address}\")\n",
    "\n",
    "a = Employee(\"Piyush\", 2002, \"Nagpur\")\n",
    "b = Employee(\"Sahil\", 2000, \"Pune\")\n",
    "c = Employee(\"Vinit\", 1999, \"Mumbai\")\n",
    "\n",
    "print(f\"{'Name':<12} {'Year of Joining':<15} {'Address'}\")\n",
    "print(\"-\" * 40)\n",
    "\n",
    "a.display()\n",
    "b.display()\n",
    "c.display()\n"
   ]
  },
  {
   "cell_type": "code",
   "execution_count": 32,
   "id": "1f2db40e-a8f6-4fd9-bc34-2c38886028b3",
   "metadata": {},
   "outputs": [
    {
     "name": "stdin",
     "output_type": "stream",
     "text": [
      "Enter marks of subject 1 1:  5\n",
      "Enter marks of subject 2 1:  2\n",
      "Enter marks of subject 3  1:  1\n",
      "Enter marks of subject 1 2:  2\n",
      "Enter marks of subject 2 2:  6\n",
      "Enter marks of subject 3  2:  4\n",
      "Enter marks of subject 1 3:  5\n",
      "Enter marks of subject 2 3:  6\n",
      "Enter marks of subject 3  3:  1\n",
      "Enter marks of subject 1 4:  2\n",
      "Enter marks of subject 2 4:  3\n",
      "Enter marks of subject 3  4:  4\n",
      "Enter marks of subject 1 5:  2\n",
      "Enter marks of subject 2 5:  3\n",
      "Enter marks of subject 3  5:  5\n",
      "Enter marks of subject 1 6:  6\n",
      "Enter marks of subject 2 6:  2\n",
      "Enter marks of subject 3  6:  1\n",
      "Enter marks of subject 1 7:  3\n",
      "Enter marks of subject 2 7:  5\n",
      "Enter marks of subject 3  7:  1\n",
      "Enter marks of subject 1 8:  3\n",
      "Enter marks of subject 2 8:  2\n",
      "Enter marks of subject 3  8:  5\n"
     ]
    },
    {
     "name": "stdout",
     "output_type": "stream",
     "text": [
      "\n",
      "Student Information:\n",
      "Roll No    Average Marks\n",
      "------------------------------\n",
      "1     2.6666666666666665\n",
      "2     4.0\n",
      "3     4.0\n",
      "4     3.0\n",
      "5     3.3333333333333335\n",
      "6     3.0\n",
      "7     3.0\n",
      "8     3.3333333333333335\n"
     ]
    }
   ],
   "source": [
    "\"\"\"\n",
    "Write a program to print the\n",
    "roll number and average marks of 8 students in three subjects (each out of\n",
    "100). The marks are entered by the user and the roll numbers are automatically\n",
    "assigned.\"\"\"\n",
    "\n",
    "class Student:\n",
    "    def __init__(self, roll_no, m1, m2, m3):\n",
    "        self.roll_no = roll_no\n",
    "        self.m1 = m1\n",
    "        self.m2 = m2\n",
    "        self.m3 = m3\n",
    "\n",
    "    def average_marks(self):\n",
    "        return (self.m1 + self.m2 + self.m3) / 3\n",
    "\n",
    "s = []\n",
    "\n",
    "for i in range(8):\n",
    "    m1 = float(input(f\"Enter marks of subject 1 {i+1}: \"))\n",
    "    m2 = float(input(f\"Enter marks of subject 2 {i+1}: \"))\n",
    "    m3 = float(input(f\"Enter marks of subject 3  {i+1}: \"))\n",
    "    \n",
    "    roll_no = i + 1\n",
    "    \n",
    "    st = Student(roll_no, m1, m2, m3)\n",
    "    s.append(st)\n",
    "\n",
    "print(\"\\nStudent Information:\")\n",
    "print(f\"{'Roll No':<10} {'Average Marks'}\")\n",
    "print(\"-\" * 30)\n",
    "\n",
    "for student in s:\n",
    "    print(f\"{student.roll_no:<5} {student.average_marks():}\")\n"
   ]
  },
  {
   "cell_type": "code",
   "execution_count": 34,
   "id": "5e620d0d-1f21-4681-9f59-e34f069cdb14",
   "metadata": {},
   "outputs": [
    {
     "name": "stdin",
     "output_type": "stream",
     "text": [
      "Enter the number of students:  50\n",
      "Enter the height 1 (in meters):  80\n",
      "Enter the height 2 (in meters):  40\n",
      "Enter the height 3 (in meters):  60\n",
      "Enter the height 4 (in meters):  50\n",
      "Enter the height 5 (in meters):  43\n",
      "Enter the height 6 (in meters):  55\n",
      "Enter the height 7 (in meters):  22\n",
      "Enter the height 8 (in meters):  88\n",
      "Enter the height 9 (in meters):  40\n",
      "Enter the height 10 (in meters):  30\n",
      "Enter the height 11 (in meters):  40\n",
      "Enter the height 12 (in meters):  60\n",
      "Enter the height 13 (in meters):  47\n",
      "Enter the height 14 (in meters):  0\n",
      "Enter the height 15 (in meters):  .\n"
     ]
    },
    {
     "ename": "ValueError",
     "evalue": "could not convert string to float: '.'",
     "output_type": "error",
     "traceback": [
      "\u001b[1;31m---------------------------------------------------------------------------\u001b[0m",
      "\u001b[1;31mValueError\u001b[0m                                Traceback (most recent call last)",
      "Cell \u001b[1;32mIn[34], line 18\u001b[0m\n\u001b[0;32m     15\u001b[0m     avg \u001b[38;5;241m=\u001b[39m total \u001b[38;5;241m/\u001b[39m num\n\u001b[0;32m     16\u001b[0m     \u001b[38;5;28mprint\u001b[39m(\u001b[38;5;124mf\u001b[39m\u001b[38;5;124m\"\u001b[39m\u001b[38;5;130;01m\\n\u001b[39;00m\u001b[38;5;124mThe average height of the class is: \u001b[39m\u001b[38;5;132;01m{\u001b[39;00mavg\u001b[38;5;132;01m:\u001b[39;00m\u001b[38;5;132;01m}\u001b[39;00m\u001b[38;5;124m meters\u001b[39m\u001b[38;5;124m\"\u001b[39m)\n\u001b[1;32m---> 18\u001b[0m \u001b[43mcal\u001b[49m\u001b[43m(\u001b[49m\u001b[43m)\u001b[49m\n",
      "Cell \u001b[1;32mIn[34], line 12\u001b[0m, in \u001b[0;36mcal\u001b[1;34m()\u001b[0m\n\u001b[0;32m      9\u001b[0m total \u001b[38;5;241m=\u001b[39m \u001b[38;5;241m0\u001b[39m\n\u001b[0;32m     11\u001b[0m \u001b[38;5;28;01mfor\u001b[39;00m i \u001b[38;5;129;01min\u001b[39;00m \u001b[38;5;28mrange\u001b[39m(num):\n\u001b[1;32m---> 12\u001b[0m     h \u001b[38;5;241m=\u001b[39m \u001b[38;5;28;43mfloat\u001b[39;49m\u001b[43m(\u001b[49m\u001b[38;5;28;43minput\u001b[39;49m\u001b[43m(\u001b[49m\u001b[38;5;124;43mf\u001b[39;49m\u001b[38;5;124;43m\"\u001b[39;49m\u001b[38;5;124;43mEnter the height \u001b[39;49m\u001b[38;5;132;43;01m{\u001b[39;49;00m\u001b[43mi\u001b[49m\u001b[38;5;241;43m+\u001b[39;49m\u001b[38;5;241;43m1\u001b[39;49m\u001b[38;5;132;43;01m}\u001b[39;49;00m\u001b[38;5;124;43m (in meters): \u001b[39;49m\u001b[38;5;124;43m\"\u001b[39;49m\u001b[43m)\u001b[49m\u001b[43m)\u001b[49m\n\u001b[0;32m     13\u001b[0m     total \u001b[38;5;241m+\u001b[39m\u001b[38;5;241m=\u001b[39m h\n\u001b[0;32m     15\u001b[0m avg \u001b[38;5;241m=\u001b[39m total \u001b[38;5;241m/\u001b[39m num\n",
      "\u001b[1;31mValueError\u001b[0m: could not convert string to float: '.'"
     ]
    }
   ],
   "source": [
    "\"\"\"\n",
    "Write a program to calculate\n",
    "the average height of all the students of a class. The number of students and\n",
    "their heights are entered by the user.\"\"\"\n",
    "\n",
    "def cal():\n",
    "    num = int(input(\"Enter the number of students: \"))\n",
    "    \n",
    "    total = 0\n",
    "\n",
    "    for i in range(num):\n",
    "        h = float(input(f\"Enter the height {i+1} (in meters): \"))\n",
    "        total += h\n",
    "\n",
    "    avg = total / num\n",
    "    print(f\"\\nThe average height of the class is: {avg:} meters\")\n",
    "\n",
    "cal()\n"
   ]
  },
  {
   "cell_type": "code",
   "execution_count": 35,
   "id": "6eeac74b-141c-4d01-b357-f6521dcce961",
   "metadata": {},
   "outputs": [
    {
     "data": {
      "text/plain": [
       "'\\nWrite a program to create a\\ndirectory that contains the following information.\\n\\n(a) Name of a person\\n\\n(b) Address\\n\\n(c) Telephone Number (if available with STD code)\\n\\n(d) Mobile Number (if available)\\n\\n(e) Head of the family\\n'"
      ]
     },
     "execution_count": 35,
     "metadata": {},
     "output_type": "execute_result"
    }
   ],
   "source": [
    "\"\"\"\n",
    "Write a program to create a\n",
    "directory that contains the following information.\n",
    "\n",
    "(a) Name of a person\n",
    "\n",
    "(b) Address\n",
    "\n",
    "(c) Telephone Number (if available with STD code)\n",
    "\n",
    "(d) Mobile Number (if available)\n",
    "\n",
    "(e) Head of the family\n",
    "\"\"\"\n"
   ]
  },
  {
   "cell_type": "code",
   "execution_count": null,
   "id": "89f00ad7-dae7-470a-b7f6-bea21137cbc1",
   "metadata": {},
   "outputs": [],
   "source": []
  }
 ],
 "metadata": {
  "kernelspec": {
   "display_name": "Python 3 (ipykernel)",
   "language": "python",
   "name": "python3"
  },
  "language_info": {
   "codemirror_mode": {
    "name": "ipython",
    "version": 3
   },
   "file_extension": ".py",
   "mimetype": "text/x-python",
   "name": "python",
   "nbconvert_exporter": "python",
   "pygments_lexer": "ipython3",
   "version": "3.12.5"
  }
 },
 "nbformat": 4,
 "nbformat_minor": 5
}
