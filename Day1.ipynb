{
 "cells": [
  {
   "cell_type": "code",
   "execution_count": 3,
   "id": "2f635a4c-ce7f-4a82-a026-cd047fc277be",
   "metadata": {},
   "outputs": [
    {
     "name": "stdout",
     "output_type": "stream",
     "text": [
      "a is 10\n",
      "10 is a and b is 20\n",
      "a is 10 and b is 20\n"
     ]
    }
   ],
   "source": [
    "a=10\n",
    "b=20\n",
    "print(\"a is\",a)\n",
    "print(a,\"is a and b is\",b)\n",
    "print(\"a is\",a,\"and\",\"b is\",b)"
   ]
  },
  {
   "cell_type": "code",
   "execution_count": 1,
   "id": "4bbe1398-cb86-4147-915c-d9339cbb8312",
   "metadata": {},
   "outputs": [
    {
     "name": "stdout",
     "output_type": "stream",
     "text": [
      "140723857394392\n",
      "140723857394712\n"
     ]
    }
   ],
   "source": [
    "a=10\n",
    "b=20\n",
    "print(id(a))\n",
    "print(id(b))"
   ]
  },
  {
   "cell_type": "code",
   "execution_count": 3,
   "id": "a96283f6-4d75-4b3b-bed4-d0fa36b8b93e",
   "metadata": {},
   "outputs": [
    {
     "name": "stdout",
     "output_type": "stream",
     "text": [
      "<class 'int'>\n"
     ]
    }
   ],
   "source": [
    "a=10\n",
    "print(type(a))"
   ]
  },
  {
   "cell_type": "code",
   "execution_count": null,
   "id": "5d30b60f-8a14-42cc-9d2b-b48a79313ae2",
   "metadata": {},
   "outputs": [],
   "source": []
  },
  {
   "cell_type": "code",
   "execution_count": 11,
   "id": "ddbb9557-4881-4574-804f-e0dbd930cdf0",
   "metadata": {},
   "outputs": [
    {
     "name": "stdin",
     "output_type": "stream",
     "text": [
      "Enter time in H: 1\n",
      "Enter time in M: 2\n",
      "Enter time in S: 3\n"
     ]
    },
    {
     "name": "stdout",
     "output_type": "stream",
     "text": [
      "The given time in seconds: 1111111111111111111111111111111111111111111111111111111111111111111111111111111111111111111111111111111111111111111111111111111111111111111111111111111111111111111111111111111111111111111111111111111111111111111111111111111111111111111111111111111111111111111111111111111111111111111111111111111111111111111111111111111111111111111111111111111111111111111111111111111111111111111111111111111111111111111111111111111111111111111111111111111111111111111111111111111111111111111111111111111111111111111111111111111111111111111111111111111111111111111111111111111111111111111111111111111111111111111111111111111111111111111111111111111111111111111111111111111111111111111111111111111111111111111111111111111111111111111111111111111111111111111111111111111111111111111111111111111111111111111111111111111111111111111111111111111111111111111111111111111111111111111111111111111111111111111111111111111111111111111111111111111111111111111111111111111111111111111111111111111111111111111111111111111111111111111111111111111111111111111111111111111111111111111111111111111111111111111111111111111111111111111111111111111111111111111111111111111111111111111111111111111111111111111111111111111111111111111111111111111111111111111111111111111111111111111111111111111111111111111111111111111111111111111111111111111111111111111111111111111111111111111111111111111111111111111111111111111111111111111111111111111111111111111111111111111111111111111111111111111111111111111111111111111111111111111111111111111111111111111111111111111111111111111111111111111111111111111111111111111111111111111111111111111111111111111111111111111111111111111111111111111111111111111111111111111111111111111111111111111111111111111111111111111111111111111111111111111111111111111111111111111111111111111111111111111111111111111111111111111111111111111111111111111111111111111111111111111111111111111111111111111111111111111111111111111111111111111111111111111111111111111111111111111111111111111111111111111111111111111111111111111111111111111111111111111111111111111111111111111111111111111111111111111111111111111111111111111111111111111111111111111111111111111111111111111111111111111111111111111111111111111111111111111111111111111111111111111111111111111111111111111111111111111111111111111111111111111111111111111111111111111111111111111111111111111111111111111111111111111111111111111111111111111111111111111111111111111111111111111111111111111111111111111111111111111111111111111111111111111111111111111111111111111111111111111111111111111111111111111111111111111111111111111111111111111111111111111111111111111111111111111111111111111111111111111111111111111111111111111111111111111111111111111111111111111111111111111111111111111111111111111111111111111111111111111111111111111111111111111111111111111111111111111111111111111111111111111111111111111111111111111111111111111111111111111111111111111111111111111111111111111111111111111111111111111111111111111111111111111111111111111111111111111111111111111111111111111111111111111111111111111111111111111111111111111111111111111111111111111111111111111111111111111111111111111111111111111111111111111111111111111111111111111111111111111111111111111111111111111111111111111111111111111111111111111111111111111111111111111111111111111111111111111111111111111111111111111111111111111111111111111111111111111111111111111111111111111111111111111111111111111111111111111111111111111111111111111111111111111111111111111111111111111111111111111111111111111111111111111111111111111111111111111111111111111111111111111111111111111111111111111111111111111111111111111111111111111111112222222222222222222222222222222222222222222222222222222222223\n"
     ]
    }
   ],
   "source": [
    "h=(input(\"Enter time in H:\"))\n",
    "m=(input(\"Enter time in M:\"))\n",
    "s=(input(\"Enter time in S:\"))\n",
    "\n",
    "result= h*60*60+m*60+s\n",
    "\n",
    "print(\"The given time in seconds:\",result)"
   ]
  },
  {
   "cell_type": "code",
   "execution_count": 16,
   "id": "50a5ea38-2c8d-410e-8ef2-4400e3fe06f4",
   "metadata": {},
   "outputs": [
    {
     "name": "stdin",
     "output_type": "stream",
     "text": [
      "Enter time in H:M:S 1:12:53\n"
     ]
    },
    {
     "name": "stdout",
     "output_type": "stream",
     "text": [
      "Given H: 1 M: 12 S: 53\n",
      "given time in seconds: 4373\n"
     ]
    }
   ],
   "source": [
    "h,m,s = map(int,input(\"Enter time in H:M:S\").split(\":\"))\n",
    "print(\"Given H:\",h,\"M:\",m,\"S:\",s)\n",
    "\n",
    "total_seconds = h*3600+m*60+s\n",
    "\n",
    "print(\"given time in seconds:\",total_seconds)"
   ]
  },
  {
   "cell_type": "code",
   "execution_count": 2,
   "id": "cbe55bcf-797b-472c-9862-087b126ebc5b",
   "metadata": {},
   "outputs": [
    {
     "name": "stdin",
     "output_type": "stream",
     "text": [
      "Enter time in seconds 1:2:1\n"
     ]
    },
    {
     "ename": "TypeError",
     "evalue": "unsupported operand type(s) for //: 'str' and 'int'",
     "output_type": "error",
     "traceback": [
      "\u001b[1;31m---------------------------------------------------------------------------\u001b[0m",
      "\u001b[1;31mTypeError\u001b[0m                                 Traceback (most recent call last)",
      "Cell \u001b[1;32mIn[2], line 3\u001b[0m\n\u001b[0;32m      1\u001b[0m s \u001b[38;5;241m=\u001b[39m \u001b[38;5;28minput\u001b[39m(\u001b[38;5;124m\"\u001b[39m\u001b[38;5;124mEnter time in seconds\u001b[39m\u001b[38;5;124m\"\u001b[39m)\n\u001b[1;32m----> 3\u001b[0m h\u001b[38;5;241m=\u001b[39m \u001b[43ms\u001b[49m\u001b[38;5;241;43m/\u001b[39;49m\u001b[38;5;241;43m/\u001b[39;49m\u001b[38;5;241;43m3600\u001b[39;49m\n\u001b[0;32m      4\u001b[0m m\u001b[38;5;241m=\u001b[39m(s\u001b[38;5;241m%\u001b[39m\u001b[38;5;241m3600\u001b[39m)\u001b[38;5;241m/\u001b[39m\u001b[38;5;241m/\u001b[39m\u001b[38;5;241m60\u001b[39m\n\u001b[0;32m      5\u001b[0m s\u001b[38;5;241m=\u001b[39m s\u001b[38;5;241m%\u001b[39m\u001b[38;5;241m60\u001b[39m\n",
      "\u001b[1;31mTypeError\u001b[0m: unsupported operand type(s) for //: 'str' and 'int'"
     ]
    }
   ],
   "source": [
    "s = input(\"Enter time in seconds\")\n",
    "\n",
    "h= s//3600\n",
    "m=(s%3600)//60\n",
    "s= s%60\n",
    "\n",
    "print(\"H:\",h,\"M:\",m,\"S:\",s)"
   ]
  },
  {
   "cell_type": "code",
   "execution_count": 23,
   "id": "52b66e1c-c778-484d-867a-7004490f62bd",
   "metadata": {},
   "outputs": [
    {
     "name": "stdin",
     "output_type": "stream",
     "text": [
      "Enter time 1 in H:M:S 1:1:1\n",
      "Enter time 2 in H:M:S 1:1:1\n"
     ]
    },
    {
     "name": "stdout",
     "output_type": "stream",
     "text": [
      "7322\n",
      "2 : 2 : 2\n"
     ]
    }
   ],
   "source": [
    "h1,m1,s1 = map(int,input(\"Enter time 1 in H:M:S\").split(\":\"))\n",
    "h2,m2,s2 = map(int,input(\"Enter time 2 in H:M:S\").split(\":\"))\n",
    "\n",
    "total_1 = h1*3600+m1*60+s1\n",
    "total_2 = h2*3600+m2*60+s2\n",
    "\n",
    "total = total_1 + total_2\n",
    "\n",
    "print(total)\n",
    "\n",
    "h=total//3600\n",
    "m=(total%3600)//60\n",
    "s=total%60\n",
    "\n",
    "print(h,\":\",m,\":\",s)"
   ]
  },
  {
   "cell_type": "code",
   "execution_count": 31,
   "id": "c7042d6e-6802-4cda-95af-ede19619c614",
   "metadata": {},
   "outputs": [
    {
     "name": "stdin",
     "output_type": "stream",
     "text": [
      "Enter a number -2\n"
     ]
    },
    {
     "name": "stdout",
     "output_type": "stream",
     "text": [
      "Negative number\n"
     ]
    }
   ],
   "source": [
    "a=int(input(\"Enter a number\"))\n",
    "if a>0:\n",
    "    print(a,\"is Positive no\")\n",
    "else:\n",
    "    print(\"Negative number\")"
   ]
  },
  {
   "cell_type": "code",
   "execution_count": 34,
   "id": "b0bb492f-5f7d-435a-b2b7-5e462556671e",
   "metadata": {},
   "outputs": [
    {
     "name": "stdin",
     "output_type": "stream",
     "text": [
      "Enter a number -2\n"
     ]
    },
    {
     "name": "stdout",
     "output_type": "stream",
     "text": [
      "Negative number\n"
     ]
    }
   ],
   "source": [
    "a=int(input(\"Enter a number\"))\n",
    "if a>0:\n",
    "    print(a,\"is Positive no\")\n",
    "\n",
    "elif a==0:\n",
    "    print(\"zero\")\n",
    "    \n",
    "else:\n",
    "    print(\"Negative number\")"
   ]
  },
  {
   "cell_type": "code",
   "execution_count": 50,
   "id": "8f20cfef-8fb5-4bd8-8ab8-1263ca4b9df9",
   "metadata": {},
   "outputs": [
    {
     "name": "stdin",
     "output_type": "stream",
     "text": [
      "Enter the bill amount: 125705\n"
     ]
    },
    {
     "name": "stdout",
     "output_type": "stream",
     "text": [
      "Before discount: 125705.0\n",
      "After discount: 100564.0\n"
     ]
    }
   ],
   "source": [
    "a = float(input(\"Enter the bill amount:\"))\n",
    "\n",
    "print(\"Before discount:\",a)\n",
    "\n",
    "if a>0:\n",
    "    if a>=1000 and a<2000:\n",
    "        b=a*0.1\n",
    "        a=a-b\n",
    "        print(\"After discount:\",a)    \n",
    "    \n",
    "    elif a>=2000 and a<5000:\n",
    "        b=a*0.15\n",
    "        a=a-b\n",
    "        print(\"After discount:\",a)\n",
    "    \n",
    "    elif a>=5000:\n",
    "        b=a*0.2\n",
    "        a=a-b\n",
    "        print(\"After discount:\",a)\n",
    "\n",
    "else:\n",
    "    print(\"No discount\")\n",
    "\n"
   ]
  },
  {
   "cell_type": "code",
   "execution_count": 55,
   "id": "ee831ea6-8558-49d4-8a27-99dc194287fe",
   "metadata": {},
   "outputs": [
    {
     "name": "stdin",
     "output_type": "stream",
     "text": [
      "Enter total marks: 400\n"
     ]
    },
    {
     "name": "stdout",
     "output_type": "stream",
     "text": [
      "80.0\n",
      "First Class\n"
     ]
    }
   ],
   "source": [
    "marks = int(input(\"Enter total marks:\"))\n",
    "\n",
    "percent=(marks/500)*100\n",
    "\n",
    "print(percent)\n",
    "\n",
    "if percent<=50:\n",
    "    print(\"Fail\")\n",
    "elif percent>=50 and percent<=69:\n",
    "    print(\"Third Class\")\n",
    "elif percent>=70 and percent<=79:\n",
    "    print(\"Second Class\")\n",
    "elif percent>=80 and percent<=89:\n",
    "    print(\"First Class\")\n",
    "elif percent>=90:\n",
    "    print(\"Distinction\")\n"
   ]
  },
  {
   "cell_type": "code",
   "execution_count": 56,
   "id": "f6baa4cb-5b3a-4922-a856-86e265fb9efd",
   "metadata": {},
   "outputs": [
    {
     "name": "stdin",
     "output_type": "stream",
     "text": [
      "Enter total marks: 392\n"
     ]
    },
    {
     "name": "stdout",
     "output_type": "stream",
     "text": [
      "78.4\n",
      "Second Class\n"
     ]
    }
   ],
   "source": [
    "marks = int(input(\"Enter total marks:\"))\n",
    "\n",
    "if marks>500 or marks<0:\n",
    "    print(\"Wrong Input\")\n",
    "else:\n",
    "    percent=(marks/500)*100\n",
    "    \n",
    "    print(percent)\n",
    "    \n",
    "    if percent>=90:\n",
    "        print(\"Distinction\")\n",
    "    elif percent>=80:\n",
    "        print(\"First Class\")\n",
    "    elif percent>=70:\n",
    "        print(\"Second Class\")\n",
    "    elif percent>=60:\n",
    "        print(\"Third Class\")\n",
    "    else:\n",
    "        print(\"Fail\")\n",
    "\n"
   ]
  },
  {
   "cell_type": "code",
   "execution_count": 7,
   "id": "a175eece-617e-48f9-aa8d-c5e68ef12f90",
   "metadata": {},
   "outputs": [
    {
     "name": "stdin",
     "output_type": "stream",
     "text": [
      "Enter a number 11\n"
     ]
    },
    {
     "name": "stdout",
     "output_type": "stream",
     "text": [
      "11 Odd\n"
     ]
    }
   ],
   "source": [
    "#even or odd\n",
    "\n",
    "number = int(input(\"Enter a number\"))\n",
    "\n",
    "if number%2 == 0:\n",
    "    print(number,\"Even\")\n",
    "else:\n",
    "    print(number,\"Odd\")"
   ]
  },
  {
   "cell_type": "code",
   "execution_count": 11,
   "id": "cc894e85-91d7-4b15-a5fd-f3ce810a8bc0",
   "metadata": {},
   "outputs": [
    {
     "name": "stdin",
     "output_type": "stream",
     "text": [
      "Enter a year: 2024\n"
     ]
    },
    {
     "name": "stdout",
     "output_type": "stream",
     "text": [
      "2024 is Leap year\n"
     ]
    }
   ],
   "source": [
    "#leap year or not\n",
    "\n",
    "year = int(input(\"Enter a year:\"))\n",
    "\n",
    "if year%4 == 0:\n",
    "    print(year,\"is Leap year\")\n",
    "else:\n",
    "    print(year,\"is not a leap year\")"
   ]
  },
  {
   "cell_type": "code",
   "execution_count": 3,
   "id": "c09f86e4-7487-4179-8750-b5085e31db35",
   "metadata": {},
   "outputs": [
    {
     "name": "stdin",
     "output_type": "stream",
     "text": [
      "Enter 3 numbers: 20-40-30\n"
     ]
    },
    {
     "name": "stdout",
     "output_type": "stream",
     "text": [
      "20 40 30\n",
      "40 is Greater\n"
     ]
    }
   ],
   "source": [
    "#largest Number\n",
    "\n",
    "n1,n2,n3 = map(int,input(\"Enter 3 numbers:\").split(\"-\"))\n",
    "\n",
    "print(n1,n2,n3)\n",
    "\n",
    "if n1>n2 and n1>n3:\n",
    "    print(n1,\"is Greater\")\n",
    "elif n2>n1 and n2>n3:\n",
    "    print(n2,\"is Greater\")\n",
    "else:\n",
    "    print(n3,\"is greater\")"
   ]
  },
  {
   "cell_type": "code",
   "execution_count": null,
   "id": "d1930edb-86a9-4e04-9b4b-4e01078ae5a1",
   "metadata": {},
   "outputs": [],
   "source": [
    "#Write a program that takes a string as input and checks whether it is a palindrome or not.\n",
    "s = str(input(\"Enter a string:\"))\n"
   ]
  }
 ],
 "metadata": {
  "kernelspec": {
   "display_name": "Python 3 (ipykernel)",
   "language": "python",
   "name": "python3"
  },
  "language_info": {
   "codemirror_mode": {
    "name": "ipython",
    "version": 3
   },
   "file_extension": ".py",
   "mimetype": "text/x-python",
   "name": "python",
   "nbconvert_exporter": "python",
   "pygments_lexer": "ipython3",
   "version": "3.12.5"
  }
 },
 "nbformat": 4,
 "nbformat_minor": 5
}
