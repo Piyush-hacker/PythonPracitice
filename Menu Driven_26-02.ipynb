{
 "cells": [
  {
   "cell_type": "code",
   "execution_count": null,
   "id": "407f382c-938d-49f2-9fdd-c3ffee23096d",
   "metadata": {},
   "outputs": [
    {
     "name": "stdout",
     "output_type": "stream",
     "text": [
      "\n",
      "----------\n",
      "   MENU   \n",
      "----------\n",
      "1. Burger (₹50)\n",
      "2. Pizza (₹120)\n",
      "3. French Fries (₹80)\n",
      "0. Exit & Show Sales Report\n"
     ]
    }
   ],
   "source": [
    "burger_price = 50\n",
    "pizza_price = 120\n",
    "french_fries_price = 80\n",
    "\n",
    "burger_count = 0\n",
    "pizza_count = 0\n",
    "french_fries_count = 0\n",
    "\n",
    "total_amount = 0\n",
    "\n",
    "while True:\n",
    "    print(\"\\n----------\")\n",
    "    print(\"   MENU   \")\n",
    "    print(\"----------\")\n",
    "\n",
    "    print(\"1. Burger (₹50)\")\n",
    "    print(\"2. Pizza (₹120)\")\n",
    "    print(\"3. French Fries (₹80)\")\n",
    "    print(\"0. Exit & Show Sales Report\")\n",
    "    choice = int(input(\"Enter your choice: \"))\n",
    "\n",
    "    if choice == 0:\n",
    "        print(\"\\nExiting system... Generating Sales Report...\\n\")\n",
    "        break\n",
    "    elif choice == 1:\n",
    "        burger_count += 1\n",
    "        print(\"Burger selected. ₹10 added to total sales.\")\n",
    "    elif choice == 2:\n",
    "        pizza_count += 1\n",
    "        print(\"Pizza selected. ₹40 added to total sales.\")\n",
    "    elif choice == 3:\n",
    "        french_fries_count += 1\n",
    "        print(\"French Fries selected. ₹20 added to total sales.\")\n",
    "    else:\n",
    "        print(\"Wrong option selected. Please try again.\")\n",
    "\n",
    "total_amount = (burger_count * burger_price) + (pizza_count * pizza_price) + (french_fries_count * french_fries_price)\n",
    "\n",
    "print(\"\\n================ Sales Report ================\")\n",
    "print(\"Burger -\", burger_count, \"sold, Total: ₹\", burger_count * burger_price)\n",
    "print(\"pizza -\", pizza_count, \"sold, Total: ₹\", pizza_count * pizza_price)\n",
    "print(\"French Fries  -\", french_fries_count, \"sold, Total: ₹\", french_fries_count * french_fries_price)\n",
    "print(\"-----------------------------------------------\")\n",
    "if(total_amount>1000):\n",
    "  discount_applied = total_amount/10\n",
    "  print(\"Discount Applied: 10%\")\n",
    "elif(total_amount>2000):\n",
    "  discount_applied = total_amount/5\n",
    "  print(\"Discount Applied: 20%\")\n",
    "elif(total_amount>3000):\n",
    "  discount_applied = (total_amount*3)/10\n",
    "  print(\"Discount Applied: 30%\")\n",
    "print(\"Discount Applied: \", discount_applied)\n",
    "print(\"Total Amount: \", total_amount - discount_applied)\n",
    "print(\"===============================================\")\n",
    "\n",
    "print(\"===============================================\")"
   ]
  },
  {
   "cell_type": "code",
   "execution_count": null,
   "id": "85b0b6bd-1ba7-4254-9b49-f5e931bd72fa",
   "metadata": {},
   "outputs": [],
   "source": []
  }
 ],
 "metadata": {
  "kernelspec": {
   "display_name": "Python 3 (ipykernel)",
   "language": "python",
   "name": "python3"
  },
  "language_info": {
   "codemirror_mode": {
    "name": "ipython",
    "version": 3
   },
   "file_extension": ".py",
   "mimetype": "text/x-python",
   "name": "python",
   "nbconvert_exporter": "python",
   "pygments_lexer": "ipython3",
   "version": "3.12.5"
  }
 },
 "nbformat": 4,
 "nbformat_minor": 5
}
