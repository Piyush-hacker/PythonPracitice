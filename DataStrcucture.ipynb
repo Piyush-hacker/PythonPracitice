{
 "cells": [
  {
   "cell_type": "code",
   "execution_count": 14,
   "id": "80a53068-18cf-475b-80cf-0d57949c221e",
   "metadata": {},
   "outputs": [
    {
     "name": "stdout",
     "output_type": "stream",
     "text": [
      "Sum of  [1, 2, 3, 4, 5, 6] = 21\n",
      "Max of  [1, 2, 3, 4, 5, 6] = 6\n",
      "Min of  [1, 2, 3, 4, 5, 6] = 1\n",
      "Average of  [1, 2, 3, 4, 5, 6] = 3.5\n"
     ]
    }
   ],
   "source": [
    "#Create a list of numbers and find the sum, average, maximum, and minimum values.\n",
    "\n",
    "data=[1,2,3,4,5,6]\n",
    "print(\"Sum of \",data,\"=\",sum(data))\n",
    "print(\"Max of \",data,\"=\",max(data))\n",
    "print(\"Min of \",data,\"=\",min(data))\n",
    "print(\"Average of \",data,\"=\",sum(data)/len(data))\n"
   ]
  },
  {
   "cell_type": "code",
   "execution_count": 21,
   "id": "2fcb7775-b662-4b5b-bf17-fda7927dbd02",
   "metadata": {},
   "outputs": [
    {
     "name": "stdin",
     "output_type": "stream",
     "text": [
      "Enter elements: hello world\n"
     ]
    },
    {
     "name": "stdout",
     "output_type": "stream",
     "text": [
      "{'hello': 5, 'world': 5}\n"
     ]
    }
   ],
   "source": [
    "#Given a list of strings, create a dictionary where the keys are the strings and the values are their lengths.\n",
    "\n",
    "line=input(\"Enter elements:\").split()\n",
    "dict={}\n",
    "for i in sorted(line):\n",
    "    dict[i]=len(i)\n",
    "print(dict)\n"
   ]
  },
  {
   "cell_type": "code",
   "execution_count": 3,
   "id": "6d139328-8b64-4942-bd15-3d81dd2e27de",
   "metadata": {},
   "outputs": [
    {
     "name": "stdout",
     "output_type": "stream",
     "text": [
      "{'a': 1, 'b': 2, 'c': 3}\n"
     ]
    }
   ],
   "source": [
    "#Convert a list of tuples into a dictionary.\n",
    "\n",
    "data = [(\"a\", 1), (\"b\", 2), (\"c\", 3)]\n",
    "print(dict(data)) \n"
   ]
  },
  {
   "cell_type": "code",
   "execution_count": 4,
   "id": "d2ee70f5-cce6-427f-b767-f7f1b3ddd05e",
   "metadata": {},
   "outputs": [
    {
     "name": "stdout",
     "output_type": "stream",
     "text": [
      "dict_keys(['a', 'b', 'c'])\n",
      "dict_values([1, 2, 3])\n"
     ]
    }
   ],
   "source": [
    "#Create a dictionary and find the keys and values separately.\n",
    "\n",
    "data = {\"a\": 1, \"b\": 2, \"c\": 3}\n",
    "print(data.keys())    \n",
    "print(data.values())  "
   ]
  },
  {
   "cell_type": "code",
   "execution_count": 5,
   "id": "f5fad4f8-a454-461c-a915-b43f5270671b",
   "metadata": {},
   "outputs": [
    {
     "name": "stdout",
     "output_type": "stream",
     "text": [
      "{'a': 1, 'b': 2, 'c': 3, 'd': 4}\n"
     ]
    }
   ],
   "source": [
    "#Merge two dictionaries into one.\n",
    "\n",
    "d1 = {\"a\": 1, \"b\": 2}\n",
    "d2 = {\"c\": 3, \"d\": 4}\n",
    "\n",
    "d1.update(d2)\n",
    "print(d1)\n"
   ]
  },
  {
   "cell_type": "code",
   "execution_count": 10,
   "id": "13ad4985-113c-489d-b7c3-6dd3545da194",
   "metadata": {},
   "outputs": [
    {
     "name": "stdout",
     "output_type": "stream",
     "text": [
      "['Piyush', 'Bhaumik']\n"
     ]
    }
   ],
   "source": [
    "#Given a list of dictionaries, create a new list containing only the values of a specific key.\n",
    "\n",
    "data = [{\"name\": \"Piyush\", \"age\": 22}, {\"name\": \"Bhaumik\", \"age\": 25},]\n",
    "print([element[\"name\"] for element in data])\n"
   ]
  },
  {
   "cell_type": "code",
   "execution_count": 36,
   "id": "e18aa891-fefd-44be-a643-df77863fdd48",
   "metadata": {},
   "outputs": [],
   "source": [
    "#Create a dictionary where the keys are the first letters of words in a list and the values are lists of words starting with that letter.\n"
   ]
  },
  {
   "cell_type": "code",
   "execution_count": 16,
   "id": "5bdd1aa7-5893-4461-914c-32360435bea5",
   "metadata": {},
   "outputs": [],
   "source": [
    "#Sort a list of tuples based on the second element.\n",
    "\n"
   ]
  },
  {
   "cell_type": "code",
   "execution_count": 13,
   "id": "5d8106de-d352-48bb-beaa-9e03da53f119",
   "metadata": {},
   "outputs": [
    {
     "name": "stdout",
     "output_type": "stream",
     "text": [
      "{1: 1, 2: 4, 3: 9, 4: 16, 5: 25}\n"
     ]
    }
   ],
   "source": [
    "#Create a dictionary where the keys are numbers and the values are their squares. Use a list comprehension.\n",
    "\n",
    "number = [1, 2, 3, 4, 5]\n",
    "\n",
    "square = {num: num ** 2 for num in number}\n",
    "\n",
    "print(square)\n"
   ]
  },
  {
   "cell_type": "code",
   "execution_count": 15,
   "id": "b18561a1-644a-4e06-8d12-674cf3ab8134",
   "metadata": {},
   "outputs": [],
   "source": [
    "#Find the most frequent element in a list.\n",
    "\n"
   ]
  },
  {
   "cell_type": "code",
   "execution_count": 38,
   "id": "e1f2f735-642d-4c79-a618-ea417ccd6cca",
   "metadata": {},
   "outputs": [],
   "source": [
    "#Create a dictionary where the keys are words and the values are their counts in a given text.\n",
    "\n"
   ]
  },
  {
   "cell_type": "code",
   "execution_count": 20,
   "id": "600a206e-023d-49c7-bdb3-4cd33f24a2b2",
   "metadata": {},
   "outputs": [],
   "source": [
    "#Implement a simple text editor using dictionaries to store lines of text.\n"
   ]
  },
  {
   "cell_type": "code",
   "execution_count": 21,
   "id": "0dbe89bb-92c0-4f39-b7bc-848a5e9de2a5",
   "metadata": {},
   "outputs": [],
   "source": [
    "#Create a function that takes a dictionary and returns a new dictionary with the keys and values swapped.\n"
   ]
  },
  {
   "cell_type": "code",
   "execution_count": 23,
   "id": "9781f2e9-7015-4c1b-8dbd-4dbd33c54e5f",
   "metadata": {},
   "outputs": [],
   "source": [
    "#Given a dictionary, find the key with the longest value.\n"
   ]
  },
  {
   "cell_type": "code",
   "execution_count": 27,
   "id": "dffefa81-2468-466b-b5d2-d0b1f1782208",
   "metadata": {},
   "outputs": [
    {
     "name": "stdin",
     "output_type": "stream",
     "text": [
      "Enter a word to search (or 'exit' to quit):  python\n"
     ]
    },
    {
     "name": "stdout",
     "output_type": "stream",
     "text": [
      "programming language\n"
     ]
    },
    {
     "name": "stdin",
     "output_type": "stream",
     "text": [
      "Enter a word to search (or 'exit' to quit):  cdac\n"
     ]
    },
    {
     "name": "stdout",
     "output_type": "stream",
     "text": [
      "training institute\n"
     ]
    },
    {
     "name": "stdin",
     "output_type": "stream",
     "text": [
      "Enter a word to search (or 'exit' to quit):  exirt\n"
     ]
    },
    {
     "name": "stdout",
     "output_type": "stream",
     "text": [
      "Not found\n"
     ]
    },
    {
     "name": "stdin",
     "output_type": "stream",
     "text": [
      "Enter a word to search (or 'exit' to quit):  exit\n"
     ]
    }
   ],
   "source": [
    "#Implement a basic word search game using lists and dictionaries.\n",
    "list1 = {\"apple\": \"fruit\", \"python\": \"programming language\", \"cdac\": \"training institute\"}\n",
    "\n",
    "while True:\n",
    "    search = input(\"Enter a word to search (or 'exit' to quit): \")\n",
    "    if search == \"exit\":\n",
    "        break\n",
    "    if search in list1:\n",
    "        print(list1[search])\n",
    "    else:\n",
    "        print(\"Not found\")\n"
   ]
  },
  {
   "cell_type": "code",
   "execution_count": 30,
   "id": "34f62c1b-4af9-4b58-8f1f-89618b7e08b6",
   "metadata": {},
   "outputs": [
    {
     "name": "stdout",
     "output_type": "stream",
     "text": [
      "['apple', 'banana', 'cherry']\n"
     ]
    }
   ],
   "source": [
    "#Given a list of tuples, create a new list containing only the first elements of each tuple.\n",
    "\n",
    "fruit = [(\"apple\", 3), (\"banana\", 1), (\"cherry\", 2)]\n",
    "\n",
    "list1 = [item[0] for item in fruit]\n",
    "\n",
    "print(list1)\n"
   ]
  },
  {
   "cell_type": "code",
   "execution_count": 32,
   "id": "b94d9fd1-69c0-4b82-b4e1-6f57a13dc185",
   "metadata": {},
   "outputs": [
    {
     "name": "stdout",
     "output_type": "stream",
     "text": [
      "120\n"
     ]
    }
   ],
   "source": [
    "#Create a tuple of integers and find the product of all elements.\n",
    "\n",
    "num = (2, 3, 4, 5)\n",
    "\n",
    "product = 1\n",
    "for n in num:\n",
    "    product *= n\n",
    "\n",
    "print(product)\n"
   ]
  },
  {
   "cell_type": "code",
   "execution_count": 35,
   "id": "fe833525-f536-40c1-933d-a5395b7884cd",
   "metadata": {},
   "outputs": [],
   "source": [
    "#Given a list of tuples, create a dictionary where the keys are the first elements of the tuples and the values are the second elements.\n"
   ]
  },
  {
   "cell_type": "code",
   "execution_count": null,
   "id": "8e3cfa98-42f5-41e6-b4cd-9293eb493c83",
   "metadata": {},
   "outputs": [],
   "source": []
  }
 ],
 "metadata": {
  "kernelspec": {
   "display_name": "Python 3 (ipykernel)",
   "language": "python",
   "name": "python3"
  },
  "language_info": {
   "codemirror_mode": {
    "name": "ipython",
    "version": 3
   },
   "file_extension": ".py",
   "mimetype": "text/x-python",
   "name": "python",
   "nbconvert_exporter": "python",
   "pygments_lexer": "ipython3",
   "version": "3.12.5"
  }
 },
 "nbformat": 4,
 "nbformat_minor": 5
}
