{
 "cells": [
  {
   "cell_type": "code",
   "execution_count": 29,
   "id": "1c008e10-7439-4725-ba97-e1bf43f51564",
   "metadata": {},
   "outputs": [
    {
     "name": "stdin",
     "output_type": "stream",
     "text": [
      "Enter the radius: 7\n"
     ]
    },
    {
     "name": "stdout",
     "output_type": "stream",
     "text": [
      "Area of Circle: 153.86\n"
     ]
    }
   ],
   "source": [
    "#Area of Circle\n",
    "radius = int(input(\"Enter the radius:\"))\n",
    "area_circle = 3.14*radius**2\n",
    "print(\"Area of Circle:\",area_circle)"
   ]
  },
  {
   "cell_type": "code",
   "execution_count": 31,
   "id": "e2e71aa9-406c-47e5-861e-3516c494c22c",
   "metadata": {},
   "outputs": [
    {
     "name": "stdin",
     "output_type": "stream",
     "text": [
      "Enter the radius: 28\n"
     ]
    },
    {
     "name": "stdout",
     "output_type": "stream",
     "text": [
      "Circumference of Circle: 175.84\n"
     ]
    }
   ],
   "source": [
    "#Circumference of Circle\n",
    "radius = int(input(\"Enter the radius:\"))\n",
    "circumference_circle = 2*3.14*radius\n",
    "print(\"Circumference of Circle:\",circumference_circle)"
   ]
  },
  {
   "cell_type": "code",
   "execution_count": 32,
   "id": "59dca1ce-b2a8-4a11-a8c8-ec6fd694bb3e",
   "metadata": {},
   "outputs": [
    {
     "name": "stdin",
     "output_type": "stream",
     "text": [
      "Enter length: 10\n",
      "Enter breadth: 20\n"
     ]
    },
    {
     "name": "stdout",
     "output_type": "stream",
     "text": [
      "Area of Rectangle: 200\n"
     ]
    }
   ],
   "source": [
    "#Area of Rectangle\n",
    "length = int(input(\"Enter length:\"))\n",
    "breadth = int(input(\"Enter breadth:\"))\n",
    "area_rectangle = length*breadth\n",
    "print(\"Area of Rectangle:\",area_rectangle)"
   ]
  },
  {
   "cell_type": "code",
   "execution_count": 33,
   "id": "72955126-d91d-4ab4-96db-ef91dbf44c92",
   "metadata": {},
   "outputs": [
    {
     "name": "stdin",
     "output_type": "stream",
     "text": [
      "Enter the radius: 7\n"
     ]
    },
    {
     "name": "stdout",
     "output_type": "stream",
     "text": [
      "Volume of Sphere: 1432.4366000000002\n"
     ]
    }
   ],
   "source": [
    "#Volume of Sphere\n",
    "radius = int(input(\"Enter the radius:\"))\n",
    "Volume_sphere = 1.33*3.14*radius**3\n",
    "print(\"Volume of Sphere:\",Volume_sphere)"
   ]
  },
  {
   "cell_type": "code",
   "execution_count": 34,
   "id": "d773eafe-656e-4024-b140-0a1955cf7933",
   "metadata": {},
   "outputs": [
    {
     "name": "stdin",
     "output_type": "stream",
     "text": [
      "Enter the radius: 7\n"
     ]
    },
    {
     "name": "stdout",
     "output_type": "stream",
     "text": [
      "Surafce area of Sphere: 615.44\n"
     ]
    }
   ],
   "source": [
    "#Surface area of Sphere\n",
    "radius = int(input(\"Enter the radius:\"))\n",
    "surface_area_sphere = 4*3.14*radius**2\n",
    "print(\"Surafce area of Sphere:\",surface_area_sphere)"
   ]
  },
  {
   "cell_type": "code",
   "execution_count": 35,
   "id": "ca2c3034-3c2c-4bf4-bff7-17060e2916a4",
   "metadata": {},
   "outputs": [
    {
     "name": "stdin",
     "output_type": "stream",
     "text": [
      "Enter no. of sides: 2\n"
     ]
    },
    {
     "name": "stdout",
     "output_type": "stream",
     "text": [
      "4\n"
     ]
    }
   ],
   "source": [
    "#Area of Square\n",
    "side = int(input(\"Enter no. of sides:\"))\n",
    "area_square = side**2\n",
    "print(area_square)"
   ]
  },
  {
   "cell_type": "code",
   "execution_count": 36,
   "id": "8d57323a-2b3f-4ffb-8768-72ed94be1108",
   "metadata": {},
   "outputs": [
    {
     "name": "stdin",
     "output_type": "stream",
     "text": [
      "Enter breath: 5\n",
      "Enter height: 5\n"
     ]
    },
    {
     "name": "stdout",
     "output_type": "stream",
     "text": [
      "12.5\n"
     ]
    }
   ],
   "source": [
    "#Area of Right Angle\n",
    "breadth = int(input(\"Enter breath:\"))\n",
    "height = int(input(\"Enter height:\"))\n",
    "area_right_angle = 0.5*breadth*height\n",
    "print(area_right_angle)"
   ]
  },
  {
   "cell_type": "code",
   "execution_count": 37,
   "id": "8719a8ae-f05a-4adf-88ed-d9a10f576ab5",
   "metadata": {},
   "outputs": [
    {
     "name": "stdin",
     "output_type": "stream",
     "text": [
      "Enter area: 3\n"
     ]
    },
    {
     "name": "stdout",
     "output_type": "stream",
     "text": [
      "3.8925\n"
     ]
    }
   ],
   "source": [
    "#Area of equilateral traingle\n",
    "area = int(input(\"Enter area:\"))\n",
    "area_equilateral = 1.73*area**2/4\n",
    "print(area_equilateral)"
   ]
  },
  {
   "cell_type": "code",
   "execution_count": 38,
   "id": "786d9f13-f017-4b01-92b1-86c66c604093",
   "metadata": {},
   "outputs": [
    {
     "name": "stdin",
     "output_type": "stream",
     "text": [
      "Enter length: 5\n",
      "Enter width: 3\n"
     ]
    },
    {
     "name": "stdout",
     "output_type": "stream",
     "text": [
      "16\n"
     ]
    }
   ],
   "source": [
    "#Perimeter of Rectangle\n",
    "length = int(input(\"Enter length:\"))\n",
    "width = int(input(\"Enter width:\"))\n",
    "perimeter = 2*(length+width)\n",
    "print(perimeter)"
   ]
  },
  {
   "cell_type": "code",
   "execution_count": 39,
   "id": "20839316-1afc-4a6b-a6e0-6034e268f585",
   "metadata": {},
   "outputs": [
    {
     "name": "stdin",
     "output_type": "stream",
     "text": [
      "Enter base: 10\n",
      "Enter height: 5\n"
     ]
    },
    {
     "name": "stdout",
     "output_type": "stream",
     "text": [
      "25.0\n"
     ]
    }
   ],
   "source": [
    "#Area of Triangle\n",
    "base = int(input(\"Enter base:\"))\n",
    "height = int(input(\"Enter height:\"))\n",
    "area_triangle = 0.5*base*height\n",
    "print(area_triangle)"
   ]
  },
  {
   "cell_type": "code",
   "execution_count": 43,
   "id": "3d94d302-a015-408c-9e11-3afb47d3e638",
   "metadata": {},
   "outputs": [
    {
     "name": "stdin",
     "output_type": "stream",
     "text": [
      "Enter principle. Rate of Interest and Time: 2000-10-1\n"
     ]
    },
    {
     "name": "stdout",
     "output_type": "stream",
     "text": [
      "2200.0\n"
     ]
    }
   ],
   "source": [
    "#Simple Interest\n",
    "p,r,t = map(int,input(\"Enter principle. Rate of Interest and Time:\").split(\"-\"))\n",
    "amount = p*r*t/100\n",
    "simple = amount + p\n",
    "print(simple)"
   ]
  },
  {
   "cell_type": "code",
   "execution_count": 24,
   "id": "def55a95-7a4e-4804-86a4-23fa8de42f2d",
   "metadata": {},
   "outputs": [
    {
     "name": "stdin",
     "output_type": "stream",
     "text": [
      "Enter principle, rate of interest and time: 12600 10 2\n"
     ]
    },
    {
     "name": "stdout",
     "output_type": "stream",
     "text": [
      "2646.000000000002\n"
     ]
    }
   ],
   "source": [
    "#Compound Interest\n",
    "p,r,t = map(int,input(\"Enter principle, rate of interest and time:\").split(\" \"))\n",
    "amount = p*(1+r/100)**t\n",
    "comp = amount - p\n",
    "print(comp)"
   ]
  },
  {
   "cell_type": "code",
   "execution_count": 25,
   "id": "7ccde5f3-5534-4529-b082-4a07b6d70348",
   "metadata": {},
   "outputs": [
    {
     "name": "stdin",
     "output_type": "stream",
     "text": [
      "Enter days: 1460\n"
     ]
    },
    {
     "name": "stdout",
     "output_type": "stream",
     "text": [
      "4.0\n"
     ]
    }
   ],
   "source": [
    "#Days into Years\n",
    "days = int(input(\"Enter days:\"))\n",
    "years = days/365\n",
    "print(years)"
   ]
  },
  {
   "cell_type": "code",
   "execution_count": 27,
   "id": "45adb54f-d246-4d58-9e49-5fc697004e0d",
   "metadata": {},
   "outputs": [
    {
     "name": "stdin",
     "output_type": "stream",
     "text": [
      "Enter fahreheit: 50\n"
     ]
    },
    {
     "name": "stdout",
     "output_type": "stream",
     "text": [
      "9.9\n"
     ]
    }
   ],
   "source": [
    "#Fahreheit to celsius conversion\n",
    "f = int(input(\"Enter fahreheit:\"))\n",
    "c = 0.55*(f-32)\n",
    "print(c)"
   ]
  },
  {
   "cell_type": "code",
   "execution_count": null,
   "id": "996e6542-85a2-4c28-9f25-5be9b8e02bef",
   "metadata": {},
   "outputs": [],
   "source": []
  }
 ],
 "metadata": {
  "kernelspec": {
   "display_name": "Python 3 (ipykernel)",
   "language": "python",
   "name": "python3"
  },
  "language_info": {
   "codemirror_mode": {
    "name": "ipython",
    "version": 3
   },
   "file_extension": ".py",
   "mimetype": "text/x-python",
   "name": "python",
   "nbconvert_exporter": "python",
   "pygments_lexer": "ipython3",
   "version": "3.12.5"
  }
 },
 "nbformat": 4,
 "nbformat_minor": 5
}
